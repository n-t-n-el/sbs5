{
 "cells": [
  {
   "cell_type": "code",
   "execution_count": 7,
   "metadata": {},
   "outputs": [],
   "source": [
    "import pandas as pd\n",
    "import sys\n",
    "import os\n",
    "sys.path.append(\"/Users/marc/Desktop/PostDoc/Mutation/signature5/notebooks\")\n",
    "import tools\n",
    "\n",
    "col_order = ['Chr', 'Pos', 'Ref', 'Alt', 'Sample', 'Tissue_CellType', 'Compartment',\n",
    "             'Individual', 'Study', 'Context', 'GeneralType', 'Type']\n",
    "col_meta = [\"Study\", \"Sample\", \"Individual\", \"Age\", \"Compartment\", \"Status\", \"Tissue_CellType\"]"
   ]
  },
  {
   "cell_type": "markdown",
   "metadata": {},
   "source": [
    "Read data"
   ]
  },
  {
   "cell_type": "code",
   "execution_count": 9,
   "metadata": {},
   "outputs": [
    {
     "name": "stderr",
     "output_type": "stream",
     "text": [
      "<ipython-input-9-f06570a1f288>:1: DtypeWarning: Columns (2) have mixed types. Specify dtype option on import or set low_memory=False.\n",
      "  dat = pd.read_csv(\"df_from_R.csv.gz\")\n"
     ]
    }
   ],
   "source": [
    "dat = pd.read_csv(\"df_from_R.csv.gz\")"
   ]
  },
  {
   "cell_type": "code",
   "execution_count": 10,
   "metadata": {},
   "outputs": [],
   "source": [
    "dat = dat.rename(columns = {\"donor\": \"Individual\", \"sample\": \"Sample\", \n",
    "                            \"pos\":\"Pos\", \"ref\":\"Ref\", \"alt\":\"Alt\"})\n",
    "dat[\"Individual\"] = dat.Individual.str[0:7]\n",
    "dat[\"Chr\"] = \"chr\" + dat[\"chrom\"].astype(str)\n",
    "dat[\"Tissue_CellType\"] = \"Liver\"\n",
    "dat[\"Compartment\"] = \"WGS\"\n",
    "dat[\"Study\"] = \"Ng2021\""
   ]
  },
  {
   "cell_type": "code",
   "execution_count": 11,
   "metadata": {},
   "outputs": [],
   "source": [
    "dat = tools.keep_snps(dat).reset_index(drop=\"True\")\n",
    "dat = dat[~dat[\"Chr\"].isin([\"chrX\", \"chrY\"])]"
   ]
  },
  {
   "cell_type": "code",
   "execution_count": 12,
   "metadata": {},
   "outputs": [],
   "source": [
    "cosmic = tools.COSMIC()\n",
    "dat = tools.annotate_context(dat, \"../fasta/hg19.fa\")\n",
    "dat = dat.assign(GeneralType=tools.annotate_general_type(dat))\n",
    "dat['Type'] = cosmic.fold(dat['GeneralType'])"
   ]
  },
  {
   "cell_type": "code",
   "execution_count": 13,
   "metadata": {},
   "outputs": [],
   "source": [
    "dat[\"chrom_id\"] = dat[\"Chr\"] + dat[\"Pos\"].astype(str) + dat[\"Alt\"]"
   ]
  },
  {
   "cell_type": "code",
   "execution_count": 14,
   "metadata": {},
   "outputs": [],
   "source": [
    "sdat = dat[dat.Individual==\"PD36714\"]"
   ]
  },
  {
   "cell_type": "code",
   "execution_count": 15,
   "metadata": {},
   "outputs": [],
   "source": [
    "trees = sdat.groupby([\"id\", \"Sample\"]).size().reset_index()\n",
    "trees.columns = [\"id\", \"Sample\", \"n_muts\"]"
   ]
  },
  {
   "cell_type": "code",
   "execution_count": 11,
   "metadata": {},
   "outputs": [],
   "source": [
    "pmeta2 = pd.read_excel(\"41586_2021_3974_MOESM3_ESMM/Supplementary Table 2.xlsx\", skiprows=2)\n",
    "coverages = pmeta2.set_index(\"Sample\")[\"Coverage\"].to_dict()\n",
    "burdens = dat.groupby(\"Sample\")[\"id\"].size().to_dict()\n",
    "seen = []\n",
    "miss = []\n",
    "for k,v in burdens.items():\n",
    "    if k in coverages:\n",
    "        seen.append(k)\n",
    "    else:\n",
    "        miss.append(k)"
   ]
  },
  {
   "cell_type": "code",
   "execution_count": 14,
   "metadata": {},
   "outputs": [
    {
     "data": {
      "text/plain": [
       "chrom_id\n",
       "chr10100001407T      1\n",
       "chr369436449A        1\n",
       "chr369429085G        1\n",
       "chr36942771T         1\n",
       "chr369425064T        1\n",
       "                  ... \n",
       "chr7145784901G      58\n",
       "chr944189966C       70\n",
       "chr1428368928C      87\n",
       "chr562231849A       95\n",
       "chr3192734974T     105\n",
       "Length: 1946591, dtype: int64"
      ]
     },
     "execution_count": 14,
     "metadata": {},
     "output_type": "execute_result"
    }
   ],
   "source": [
    "dat.groupby(\"chrom_id\").size().sort_values()"
   ]
  },
  {
   "cell_type": "code",
   "execution_count": 17,
   "metadata": {},
   "outputs": [
    {
     "data": {
      "text/plain": [
       "1585"
      ]
     },
     "execution_count": 17,
     "metadata": {},
     "output_type": "execute_result"
    }
   ],
   "source": [
    "len(dat.groupby(\"Sample\").size())"
   ]
  },
  {
   "cell_type": "code",
   "execution_count": 62,
   "metadata": {},
   "outputs": [],
   "source": [
    "dat[col_order].to_csv(\"Ng2021.csv.gz\", compression=\"gzip\", index=False)"
   ]
  },
  {
   "cell_type": "markdown",
   "metadata": {},
   "source": [
    "Metafile "
   ]
  },
  {
   "cell_type": "code",
   "execution_count": 2,
   "metadata": {},
   "outputs": [],
   "source": [
    "pmeta = pd.read_excel(\"41586_2021_3974_MOESM3_ESMM/Supplementary Table 1.xlsx\", skiprows=4)\n",
    "pmeta.assign(Study=\"Ng2021\", Compartment=\"WGS\", Tissue_CellType=\"Liver\")\n",
    "pmeta = pmeta.rename(columns={\"Patient ID\": \"Individual\", \"Age at \\noperation (yrs)\":\"Age\"})"
   ]
  },
  {
   "cell_type": "code",
   "execution_count": 3,
   "metadata": {},
   "outputs": [],
   "source": [
    "pmeta.replace(\"NORMAL\",\"Normal\")\n",
    "pmeta[\"Status\"] = pmeta.Aetiology"
   ]
  },
  {
   "cell_type": "code",
   "execution_count": 16,
   "metadata": {},
   "outputs": [],
   "source": [
    "stat = pmeta.set_index(\"Individual\")[\"Status\"].to_dict()\n",
    "cell2indv = dat.set_index(\"Sample\")[\"Individual\"].to_dict()\n",
    "ages = pmeta.set_index(\"Individual\")[\"Age\"].to_dict()"
   ]
  },
  {
   "cell_type": "code",
   "execution_count": 27,
   "metadata": {},
   "outputs": [],
   "source": [
    "smoking = pmeta.set_index(\"Individual\")[\"Smoking \\nstatus\"].replace(\"Current\", \"smoker\").replace(\"Never\", \"non-smoker\").replace(\"Ex\", \"ex-smoker\").to_dict()"
   ]
  },
  {
   "cell_type": "code",
   "execution_count": 28,
   "metadata": {},
   "outputs": [],
   "source": [
    "l = list(dat.Sample.unique())\n",
    "meta = pd.DataFrame(l)\n",
    "meta.columns = [\"Sample\"]\n",
    "meta[\"Study\"] = \"Ng2021\"\n",
    "meta[\"Tissue_CellType\"] = \"Liver\"\n",
    "meta[\"Individual\"] = meta.Sample.map(cell2indv)\n",
    "meta[\"Age\"] = meta[\"Individual\"].map(ages)\n",
    "meta[\"Status\"] = meta[\"Individual\"].map(stat)\n",
    "meta[\"Compartment\"] = \"WGS\"\n",
    "meta[\"Smoking\"] = meta[\"Individual\"].map(smoking)"
   ]
  },
  {
   "cell_type": "code",
   "execution_count": 29,
   "metadata": {},
   "outputs": [],
   "source": [
    "meta = meta.replace(\"NORMAL\", \"Normal\")"
   ]
  },
  {
   "cell_type": "code",
   "execution_count": 31,
   "metadata": {},
   "outputs": [],
   "source": [
    "meta[col_meta].to_csv(\"Ng2021.tab.gz\",sep=\"\\t\", index=False)"
   ]
  }
 ],
 "metadata": {
  "kernelspec": {
   "display_name": "base",
   "language": "python",
   "name": "python3"
  },
  "language_info": {
   "codemirror_mode": {
    "name": "ipython",
    "version": 3
   },
   "file_extension": ".py",
   "mimetype": "text/x-python",
   "name": "python",
   "nbconvert_exporter": "python",
   "pygments_lexer": "ipython3",
   "version": "3.8.5"
  }
 },
 "nbformat": 4,
 "nbformat_minor": 4
}
