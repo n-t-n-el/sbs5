{
 "cells": [
  {
   "cell_type": "code",
   "execution_count": 7,
   "metadata": {},
   "outputs": [],
   "source": [
    "import pandas as pd\n",
    "import sys\n",
    "import os\n",
    "sys.path.append(\"/Users/marc/Desktop/PostDoc/Mutation/signature5/notebooks\")\n",
    "import tools\n",
    "\n",
    "col_order = ['Chr', 'Pos', 'Ref', 'Alt', 'Sample', 'Tissue_CellType', 'Compartment',\n",
    "             'Individual', 'Study', 'Context', 'GeneralType', 'Type']\n",
    "col_meta = [\"Study\", \"Sample\", \"Individual\", \"Age\", \"Compartment\", \"Status\", \"Tissue_CellType\"]"
   ]
  },
  {
   "cell_type": "markdown",
   "metadata": {},
   "source": [
    "Read data"
   ]
  },
  {
   "cell_type": "code",
   "execution_count": 9,
   "metadata": {},
   "outputs": [
    {
     "name": "stderr",
     "output_type": "stream",
     "text": [
      "<ipython-input-9-f06570a1f288>:1: DtypeWarning: Columns (2) have mixed types. Specify dtype option on import or set low_memory=False.\n",
      "  dat = pd.read_csv(\"df_from_R.csv.gz\")\n"
     ]
    }
   ],
   "source": [
    "dat = pd.read_csv(\"df_from_R.csv.gz\")"
   ]
  },
  {
   "cell_type": "code",
   "execution_count": 10,
   "metadata": {},
   "outputs": [],
   "source": [
    "dat = dat.rename(columns = {\"donor\": \"Individual\", \"sample\": \"Sample\", \n",
    "                            \"pos\":\"Pos\", \"ref\":\"Ref\", \"alt\":\"Alt\"})\n",
    "dat[\"Individual\"] = dat.Individual.str[0:7]\n",
    "dat[\"Chr\"] = \"chr\" + dat[\"chrom\"].astype(str)\n",
    "dat[\"Tissue_CellType\"] = \"Liver\"\n",
    "dat[\"Compartment\"] = \"WGS\"\n",
    "dat[\"Study\"] = \"Ng2021\""
   ]
  },
  {
   "cell_type": "code",
   "execution_count": 11,
   "metadata": {},
   "outputs": [],
   "source": [
    "dat = tools.keep_snps(dat).reset_index(drop=\"True\")\n",
    "dat = dat[~dat[\"Chr\"].isin([\"chrX\", \"chrY\"])]"
   ]
  },
  {
   "cell_type": "code",
   "execution_count": 12,
   "metadata": {},
   "outputs": [],
   "source": [
    "cosmic = tools.COSMIC()\n",
    "dat = tools.annotate_context(dat, \"../fasta/hg19.fa\")\n",
    "dat = dat.assign(GeneralType=tools.annotate_general_type(dat))\n",
    "dat['Type'] = cosmic.fold(dat['GeneralType'])"
   ]
  },
  {
   "cell_type": "code",
   "execution_count": 13,
   "metadata": {},
   "outputs": [],
   "source": [
    "dat[\"chrom_id\"] = dat[\"Chr\"] + dat[\"Pos\"].astype(str) + dat[\"Alt\"]"
   ]
  },
  {
   "cell_type": "code",
   "execution_count": 14,
   "metadata": {},
   "outputs": [],
   "source": [
    "sdat = dat[dat.Individual==\"PD36714\"]"
   ]
  },
  {
   "cell_type": "code",
   "execution_count": 15,
   "metadata": {},
   "outputs": [],
   "source": [
    "trees = sdat.groupby([\"id\", \"Sample\"]).size().reset_index()\n",
    "trees.columns = [\"id\", \"Sample\", \"n_muts\"]"
   ]
  },
  {
   "cell_type": "code",
   "execution_count": 11,
   "metadata": {},
   "outputs": [],
   "source": [
    "pmeta2 = pd.read_excel(\"41586_2021_3974_MOESM3_ESMM/Supplementary Table 2.xlsx\", skiprows=2)\n",
    "coverages = pmeta2.set_index(\"Sample\")[\"Coverage\"].to_dict()\n",
    "burdens = dat.groupby(\"Sample\")[\"id\"].size().to_dict()\n",
    "seen = []\n",
    "miss = []\n",
    "for k,v in burdens.items():\n",
    "    if k in coverages:\n",
    "        seen.append(k)\n",
    "    else:\n",
    "        miss.append(k)"
   ]
  },
  {
   "cell_type": "code",
   "execution_count": 14,
   "metadata": {},
   "outputs": [
    {
     "data": {
      "text/plain": [
       "chrom_id\n",
       "chr10100001407T      1\n",
       "chr369436449A        1\n",
       "chr369429085G        1\n",
       "chr36942771T         1\n",
       "chr369425064T        1\n",
       "                  ... \n",
       "chr7145784901G      58\n",
       "chr944189966C       70\n",
       "chr1428368928C      87\n",
       "chr562231849A       95\n",
       "chr3192734974T     105\n",
       "Length: 1946591, dtype: int64"
      ]
     },
     "execution_count": 14,
     "metadata": {},
     "output_type": "execute_result"
    }
   ],
   "source": [
    "dat.groupby(\"chrom_id\").size().sort_values()"
   ]
  },
  {
   "cell_type": "code",
   "execution_count": 17,
   "metadata": {},
   "outputs": [
    {
     "data": {
      "text/plain": [
       "1585"
      ]
     },
     "execution_count": 17,
     "metadata": {},
     "output_type": "execute_result"
    }
   ],
   "source": [
    "len(dat.groupby(\"Sample\").size())"
   ]
  },
  {
   "cell_type": "code",
   "execution_count": 62,
   "metadata": {},
   "outputs": [],
   "source": [
    "dat[col_order].to_csv(\"Ng2021.csv.gz\", compression=\"gzip\", index=False)"
   ]
  },
  {
   "cell_type": "markdown",
   "metadata": {},
   "source": [
    "Metafile "
   ]
  },
  {
   "cell_type": "code",
   "execution_count": 2,
   "metadata": {},
   "outputs": [],
   "source": [
    "pmeta = pd.read_excel(\"41586_2021_3974_MOESM3_ESMM/Supplementary Table 1.xlsx\", skiprows=4)\n",
    "pmeta.assign(Study=\"Ng2021\", Compartment=\"WGS\", Tissue_CellType=\"Liver\")\n",
    "pmeta = pmeta.rename(columns={\"Patient ID\": \"Individual\", \"Age at \\noperation (yrs)\":\"Age\"})"
   ]
  },
  {
   "cell_type": "code",
   "execution_count": 3,
   "metadata": {},
   "outputs": [],
   "source": [
    "pmeta.replace(\"NORMAL\",\"Normal\")\n",
    "pmeta[\"Status\"] = pmeta.Aetiology"
   ]
  },
  {
   "cell_type": "code",
   "execution_count": 16,
   "metadata": {},
   "outputs": [],
   "source": [
    "stat = pmeta.set_index(\"Individual\")[\"Status\"].to_dict()\n",
    "cell2indv = dat.set_index(\"Sample\")[\"Individual\"].to_dict()\n",
    "ages = pmeta.set_index(\"Individual\")[\"Age\"].to_dict()"
   ]
  },
  {
   "cell_type": "code",
   "execution_count": 27,
   "metadata": {},
   "outputs": [],
   "source": [
    "smoking = pmeta.set_index(\"Individual\")[\"Smoking \\nstatus\"].replace(\"Current\", \"smoker\").replace(\"Never\", \"non-smoker\").replace(\"Ex\", \"ex-smoker\").to_dict()"
   ]
  },
  {
   "cell_type": "code",
   "execution_count": 28,
   "metadata": {},
   "outputs": [],
   "source": [
    "l = list(dat.Sample.unique())\n",
    "meta = pd.DataFrame(l)\n",
    "meta.columns = [\"Sample\"]\n",
    "meta[\"Study\"] = \"Ng2021\"\n",
    "meta[\"Tissue_CellType\"] = \"Liver\"\n",
    "meta[\"Individual\"] = meta.Sample.map(cell2indv)\n",
    "meta[\"Age\"] = meta[\"Individual\"].map(ages)\n",
    "meta[\"Status\"] = meta[\"Individual\"].map(stat)\n",
    "meta[\"Compartment\"] = \"WGS\"\n",
    "meta[\"Smoking\"] = meta[\"Individual\"].map(smoking)"
   ]
  },
  {
   "cell_type": "code",
   "execution_count": 29,
   "metadata": {},
   "outputs": [],
   "source": [
    "meta = meta.replace(\"NORMAL\", \"Normal\")"
   ]
  },
  {
   "cell_type": "code",
   "execution_count": 31,
   "metadata": {},
   "outputs": [],
   "source": [
    "meta[col_meta].to_csv(\"Ng2021.tab.gz\",sep=\"\\t\", index=False)"
   ]
  },
  {
   "cell_type": "markdown",
   "metadata": {},
   "source": [
    "Checks"
   ]
  },
  {
   "cell_type": "code",
   "execution_count": 96,
   "metadata": {},
   "outputs": [
    {
     "name": "stderr",
     "output_type": "stream",
     "text": [
      "<ipython-input-96-22042237b653>:1: DtypeWarning: Columns (2) have mixed types. Specify dtype option on import or set low_memory=False.\n",
      "  dat = pd.read_csv(\"df_from_R.csv.gz\")\n"
     ]
    }
   ],
   "source": [
    "dat = pd.read_csv(\"df_from_R.csv.gz\")\n",
    "mutsigs = pd.read_csv(\"mutsigs_branches.csv.gz\")"
   ]
  },
  {
   "cell_type": "code",
   "execution_count": 97,
   "metadata": {},
   "outputs": [
    {
     "data": {
      "text/html": [
       "<div>\n",
       "<style scoped>\n",
       "    .dataframe tbody tr th:only-of-type {\n",
       "        vertical-align: middle;\n",
       "    }\n",
       "\n",
       "    .dataframe tbody tr th {\n",
       "        vertical-align: top;\n",
       "    }\n",
       "\n",
       "    .dataframe thead th {\n",
       "        text-align: right;\n",
       "    }\n",
       "</style>\n",
       "<table border=\"1\" class=\"dataframe\">\n",
       "  <thead>\n",
       "    <tr style=\"text-align: right;\">\n",
       "      <th></th>\n",
       "      <th>Signature 0</th>\n",
       "      <th>Signature P5</th>\n",
       "      <th>Signature P16</th>\n",
       "      <th>Signature N1</th>\n",
       "      <th>Signature P20</th>\n",
       "      <th>Signature P45</th>\n",
       "      <th>Signature P4</th>\n",
       "      <th>Signature N2</th>\n",
       "      <th>Signature N3</th>\n",
       "      <th>Signature N4</th>\n",
       "      <th>...</th>\n",
       "      <th>Signature P2</th>\n",
       "      <th>Signature P21</th>\n",
       "      <th>Signature N10</th>\n",
       "      <th>Signature N11</th>\n",
       "      <th>Signature N12</th>\n",
       "      <th>Signature P22</th>\n",
       "      <th>Signature P33</th>\n",
       "      <th>Signature P18</th>\n",
       "      <th>Signature N13</th>\n",
       "      <th>Signature N14</th>\n",
       "    </tr>\n",
       "  </thead>\n",
       "  <tbody>\n",
       "    <tr>\n",
       "      <th>0</th>\n",
       "      <td>2.649716</td>\n",
       "      <td>164.708644</td>\n",
       "      <td>0.129126</td>\n",
       "      <td>1.123295</td>\n",
       "      <td>0.036743</td>\n",
       "      <td>3.028697</td>\n",
       "      <td>2.903770</td>\n",
       "      <td>74.531149</td>\n",
       "      <td>0.499709</td>\n",
       "      <td>0.001050</td>\n",
       "      <td>...</td>\n",
       "      <td>0.000000</td>\n",
       "      <td>0.000000</td>\n",
       "      <td>0.001050</td>\n",
       "      <td>0.000000</td>\n",
       "      <td>0.014697</td>\n",
       "      <td>0.000000</td>\n",
       "      <td>0.000000</td>\n",
       "      <td>0.064038</td>\n",
       "      <td>0.007349</td>\n",
       "      <td>0.000000</td>\n",
       "    </tr>\n",
       "    <tr>\n",
       "      <th>1</th>\n",
       "      <td>58.775928</td>\n",
       "      <td>513.113706</td>\n",
       "      <td>0.024146</td>\n",
       "      <td>214.819232</td>\n",
       "      <td>36.090380</td>\n",
       "      <td>20.308626</td>\n",
       "      <td>19.461588</td>\n",
       "      <td>150.422140</td>\n",
       "      <td>0.392129</td>\n",
       "      <td>0.033804</td>\n",
       "      <td>...</td>\n",
       "      <td>0.000000</td>\n",
       "      <td>0.000000</td>\n",
       "      <td>0.028009</td>\n",
       "      <td>0.000000</td>\n",
       "      <td>0.000966</td>\n",
       "      <td>0.000000</td>\n",
       "      <td>0.000000</td>\n",
       "      <td>0.000000</td>\n",
       "      <td>0.023180</td>\n",
       "      <td>0.007727</td>\n",
       "    </tr>\n",
       "    <tr>\n",
       "      <th>2</th>\n",
       "      <td>6.395586</td>\n",
       "      <td>49.347310</td>\n",
       "      <td>0.333931</td>\n",
       "      <td>5.197655</td>\n",
       "      <td>0.037241</td>\n",
       "      <td>10.838483</td>\n",
       "      <td>0.613241</td>\n",
       "      <td>5.503034</td>\n",
       "      <td>0.667862</td>\n",
       "      <td>0.000000</td>\n",
       "      <td>...</td>\n",
       "      <td>0.000000</td>\n",
       "      <td>0.000000</td>\n",
       "      <td>0.017379</td>\n",
       "      <td>0.007448</td>\n",
       "      <td>0.039724</td>\n",
       "      <td>0.000000</td>\n",
       "      <td>0.000000</td>\n",
       "      <td>0.000000</td>\n",
       "      <td>0.009931</td>\n",
       "      <td>0.002483</td>\n",
       "    </tr>\n",
       "    <tr>\n",
       "      <th>3</th>\n",
       "      <td>4.258586</td>\n",
       "      <td>8.319192</td>\n",
       "      <td>0.303030</td>\n",
       "      <td>18.159192</td>\n",
       "      <td>2.930101</td>\n",
       "      <td>0.694141</td>\n",
       "      <td>0.815354</td>\n",
       "      <td>37.347879</td>\n",
       "      <td>0.067879</td>\n",
       "      <td>0.033939</td>\n",
       "      <td>...</td>\n",
       "      <td>0.000000</td>\n",
       "      <td>0.000000</td>\n",
       "      <td>0.003232</td>\n",
       "      <td>0.001616</td>\n",
       "      <td>0.000000</td>\n",
       "      <td>0.000000</td>\n",
       "      <td>0.000000</td>\n",
       "      <td>0.002424</td>\n",
       "      <td>0.003232</td>\n",
       "      <td>0.019394</td>\n",
       "    </tr>\n",
       "    <tr>\n",
       "      <th>4</th>\n",
       "      <td>7.303316</td>\n",
       "      <td>187.273368</td>\n",
       "      <td>0.016726</td>\n",
       "      <td>5.258282</td>\n",
       "      <td>0.114444</td>\n",
       "      <td>79.451735</td>\n",
       "      <td>123.442419</td>\n",
       "      <td>300.675487</td>\n",
       "      <td>0.201598</td>\n",
       "      <td>0.001761</td>\n",
       "      <td>...</td>\n",
       "      <td>0.000000</td>\n",
       "      <td>0.000000</td>\n",
       "      <td>0.003521</td>\n",
       "      <td>0.004402</td>\n",
       "      <td>0.002641</td>\n",
       "      <td>0.000000</td>\n",
       "      <td>0.000000</td>\n",
       "      <td>0.000000</td>\n",
       "      <td>0.003521</td>\n",
       "      <td>0.014085</td>\n",
       "    </tr>\n",
       "    <tr>\n",
       "      <th>...</th>\n",
       "      <td>...</td>\n",
       "      <td>...</td>\n",
       "      <td>...</td>\n",
       "      <td>...</td>\n",
       "      <td>...</td>\n",
       "      <td>...</td>\n",
       "      <td>...</td>\n",
       "      <td>...</td>\n",
       "      <td>...</td>\n",
       "      <td>...</td>\n",
       "      <td>...</td>\n",
       "      <td>...</td>\n",
       "      <td>...</td>\n",
       "      <td>...</td>\n",
       "      <td>...</td>\n",
       "      <td>...</td>\n",
       "      <td>...</td>\n",
       "      <td>...</td>\n",
       "      <td>...</td>\n",
       "      <td>...</td>\n",
       "      <td>...</td>\n",
       "    </tr>\n",
       "    <tr>\n",
       "      <th>1008</th>\n",
       "      <td>8.452535</td>\n",
       "      <td>146.447004</td>\n",
       "      <td>0.930428</td>\n",
       "      <td>1.346465</td>\n",
       "      <td>0.036391</td>\n",
       "      <td>1.217621</td>\n",
       "      <td>3.279119</td>\n",
       "      <td>34.631395</td>\n",
       "      <td>18.032206</td>\n",
       "      <td>0.011802</td>\n",
       "      <td>...</td>\n",
       "      <td>0.000984</td>\n",
       "      <td>0.001967</td>\n",
       "      <td>0.001967</td>\n",
       "      <td>0.000000</td>\n",
       "      <td>0.039342</td>\n",
       "      <td>0.000000</td>\n",
       "      <td>0.000000</td>\n",
       "      <td>0.000000</td>\n",
       "      <td>0.000000</td>\n",
       "      <td>0.015737</td>\n",
       "    </tr>\n",
       "    <tr>\n",
       "      <th>1009</th>\n",
       "      <td>61.804864</td>\n",
       "      <td>200.445707</td>\n",
       "      <td>0.148053</td>\n",
       "      <td>158.066365</td>\n",
       "      <td>0.060147</td>\n",
       "      <td>20.814448</td>\n",
       "      <td>0.273899</td>\n",
       "      <td>235.553779</td>\n",
       "      <td>0.148979</td>\n",
       "      <td>0.000925</td>\n",
       "      <td>...</td>\n",
       "      <td>0.000000</td>\n",
       "      <td>0.000000</td>\n",
       "      <td>0.010179</td>\n",
       "      <td>0.000000</td>\n",
       "      <td>0.004627</td>\n",
       "      <td>0.000000</td>\n",
       "      <td>0.000000</td>\n",
       "      <td>0.003701</td>\n",
       "      <td>0.003701</td>\n",
       "      <td>0.000000</td>\n",
       "    </tr>\n",
       "    <tr>\n",
       "      <th>1010</th>\n",
       "      <td>19.547171</td>\n",
       "      <td>1041.344583</td>\n",
       "      <td>0.085558</td>\n",
       "      <td>78.159213</td>\n",
       "      <td>0.216747</td>\n",
       "      <td>80.889467</td>\n",
       "      <td>0.669254</td>\n",
       "      <td>18.112647</td>\n",
       "      <td>0.318466</td>\n",
       "      <td>0.000000</td>\n",
       "      <td>...</td>\n",
       "      <td>0.000000</td>\n",
       "      <td>0.004753</td>\n",
       "      <td>0.004753</td>\n",
       "      <td>0.000000</td>\n",
       "      <td>0.009506</td>\n",
       "      <td>0.007605</td>\n",
       "      <td>0.000000</td>\n",
       "      <td>0.000000</td>\n",
       "      <td>0.116929</td>\n",
       "      <td>0.017112</td>\n",
       "    </tr>\n",
       "    <tr>\n",
       "      <th>1011</th>\n",
       "      <td>33.636302</td>\n",
       "      <td>307.795121</td>\n",
       "      <td>0.283137</td>\n",
       "      <td>120.947844</td>\n",
       "      <td>0.153047</td>\n",
       "      <td>69.126172</td>\n",
       "      <td>0.262730</td>\n",
       "      <td>115.689833</td>\n",
       "      <td>0.518659</td>\n",
       "      <td>0.000000</td>\n",
       "      <td>...</td>\n",
       "      <td>0.000000</td>\n",
       "      <td>0.007652</td>\n",
       "      <td>0.000000</td>\n",
       "      <td>0.000850</td>\n",
       "      <td>0.002551</td>\n",
       "      <td>0.002551</td>\n",
       "      <td>0.000000</td>\n",
       "      <td>0.000000</td>\n",
       "      <td>0.015305</td>\n",
       "      <td>0.008503</td>\n",
       "    </tr>\n",
       "    <tr>\n",
       "      <th>1012</th>\n",
       "      <td>159.553893</td>\n",
       "      <td>1586.092786</td>\n",
       "      <td>8.318720</td>\n",
       "      <td>11.790351</td>\n",
       "      <td>0.525296</td>\n",
       "      <td>392.188251</td>\n",
       "      <td>1.168345</td>\n",
       "      <td>306.458087</td>\n",
       "      <td>24.420006</td>\n",
       "      <td>0.009186</td>\n",
       "      <td>...</td>\n",
       "      <td>0.000000</td>\n",
       "      <td>0.081008</td>\n",
       "      <td>0.140302</td>\n",
       "      <td>0.123599</td>\n",
       "      <td>0.553690</td>\n",
       "      <td>0.004176</td>\n",
       "      <td>0.005846</td>\n",
       "      <td>0.000835</td>\n",
       "      <td>1.351239</td>\n",
       "      <td>0.237177</td>\n",
       "    </tr>\n",
       "  </tbody>\n",
       "</table>\n",
       "<p>1013 rows × 37 columns</p>\n",
       "</div>"
      ],
      "text/plain": [
       "      Signature 0  Signature P5  Signature P16  Signature N1  Signature P20  \\\n",
       "0        2.649716    164.708644       0.129126      1.123295       0.036743   \n",
       "1       58.775928    513.113706       0.024146    214.819232      36.090380   \n",
       "2        6.395586     49.347310       0.333931      5.197655       0.037241   \n",
       "3        4.258586      8.319192       0.303030     18.159192       2.930101   \n",
       "4        7.303316    187.273368       0.016726      5.258282       0.114444   \n",
       "...           ...           ...            ...           ...            ...   \n",
       "1008     8.452535    146.447004       0.930428      1.346465       0.036391   \n",
       "1009    61.804864    200.445707       0.148053    158.066365       0.060147   \n",
       "1010    19.547171   1041.344583       0.085558     78.159213       0.216747   \n",
       "1011    33.636302    307.795121       0.283137    120.947844       0.153047   \n",
       "1012   159.553893   1586.092786       8.318720     11.790351       0.525296   \n",
       "\n",
       "      Signature P45  Signature P4  Signature N2  Signature N3  Signature N4  \\\n",
       "0          3.028697      2.903770     74.531149      0.499709      0.001050   \n",
       "1         20.308626     19.461588    150.422140      0.392129      0.033804   \n",
       "2         10.838483      0.613241      5.503034      0.667862      0.000000   \n",
       "3          0.694141      0.815354     37.347879      0.067879      0.033939   \n",
       "4         79.451735    123.442419    300.675487      0.201598      0.001761   \n",
       "...             ...           ...           ...           ...           ...   \n",
       "1008       1.217621      3.279119     34.631395     18.032206      0.011802   \n",
       "1009      20.814448      0.273899    235.553779      0.148979      0.000925   \n",
       "1010      80.889467      0.669254     18.112647      0.318466      0.000000   \n",
       "1011      69.126172      0.262730    115.689833      0.518659      0.000000   \n",
       "1012     392.188251      1.168345    306.458087     24.420006      0.009186   \n",
       "\n",
       "      ...  Signature P2  Signature P21  Signature N10  Signature N11  \\\n",
       "0     ...      0.000000       0.000000       0.001050       0.000000   \n",
       "1     ...      0.000000       0.000000       0.028009       0.000000   \n",
       "2     ...      0.000000       0.000000       0.017379       0.007448   \n",
       "3     ...      0.000000       0.000000       0.003232       0.001616   \n",
       "4     ...      0.000000       0.000000       0.003521       0.004402   \n",
       "...   ...           ...            ...            ...            ...   \n",
       "1008  ...      0.000984       0.001967       0.001967       0.000000   \n",
       "1009  ...      0.000000       0.000000       0.010179       0.000000   \n",
       "1010  ...      0.000000       0.004753       0.004753       0.000000   \n",
       "1011  ...      0.000000       0.007652       0.000000       0.000850   \n",
       "1012  ...      0.000000       0.081008       0.140302       0.123599   \n",
       "\n",
       "      Signature N12  Signature P22  Signature P33  Signature P18  \\\n",
       "0          0.014697       0.000000       0.000000       0.064038   \n",
       "1          0.000966       0.000000       0.000000       0.000000   \n",
       "2          0.039724       0.000000       0.000000       0.000000   \n",
       "3          0.000000       0.000000       0.000000       0.002424   \n",
       "4          0.002641       0.000000       0.000000       0.000000   \n",
       "...             ...            ...            ...            ...   \n",
       "1008       0.039342       0.000000       0.000000       0.000000   \n",
       "1009       0.004627       0.000000       0.000000       0.003701   \n",
       "1010       0.009506       0.007605       0.000000       0.000000   \n",
       "1011       0.002551       0.002551       0.000000       0.000000   \n",
       "1012       0.553690       0.004176       0.005846       0.000835   \n",
       "\n",
       "      Signature N13  Signature N14  \n",
       "0          0.007349       0.000000  \n",
       "1          0.023180       0.007727  \n",
       "2          0.009931       0.002483  \n",
       "3          0.003232       0.019394  \n",
       "4          0.003521       0.014085  \n",
       "...             ...            ...  \n",
       "1008       0.000000       0.015737  \n",
       "1009       0.003701       0.000000  \n",
       "1010       0.116929       0.017112  \n",
       "1011       0.015305       0.008503  \n",
       "1012       1.351239       0.237177  \n",
       "\n",
       "[1013 rows x 37 columns]"
      ]
     },
     "execution_count": 97,
     "metadata": {},
     "output_type": "execute_result"
    }
   ],
   "source": [
    "mutsigs"
   ]
  }
 ],
 "metadata": {
  "kernelspec": {
   "display_name": "base",
   "language": "python",
   "name": "python3"
  },
  "language_info": {
   "codemirror_mode": {
    "name": "ipython",
    "version": 3
   },
   "file_extension": ".py",
   "mimetype": "text/x-python",
   "name": "python",
   "nbconvert_exporter": "python",
   "pygments_lexer": "ipython3",
   "version": "3.8.5"
  }
 },
 "nbformat": 4,
 "nbformat_minor": 4
}
