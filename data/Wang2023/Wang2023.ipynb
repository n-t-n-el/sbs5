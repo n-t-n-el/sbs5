{
 "cells": [
  {
   "cell_type": "code",
   "execution_count": 1,
   "metadata": {},
   "outputs": [],
   "source": [
    "import pandas as pd\n",
    "import sys\n",
    "import os\n",
    "sys.path.append(\"/Users/marc/Desktop/PostDoc/Mutation/signature5/notebooks\")\n",
    "import tools\n",
    "\n",
    "col_order = ['Chr', 'Pos', 'Ref', 'Alt', 'Sample', 'Tissue_CellType', 'Compartment',\n",
    "             'Individual', 'Study', 'Context', 'GeneralType', 'Type']\n",
    "col_meta = [\"Study\", \"Sample\", \"Individual\", \"Age\", \"Compartment\", \"Status\", \"Tissue_CellType\"]"
   ]
  },
  {
   "cell_type": "markdown",
   "metadata": {},
   "source": [
    "Mutation matrix for SigProfiler"
   ]
  },
  {
   "cell_type": "code",
   "execution_count": 46,
   "metadata": {},
   "outputs": [],
   "source": [
    "mat = pd.read_csv(\"small_bowel/data/mutation_matrices/sbs_small_bowel_persample.txt\", sep=\"\\t\")\n",
    "mat.columns = [f\"{c[4]}[{c[0:3]}]{c[-1]}\" for c in mat.columns]\n",
    "example = pd.read_csv(\"../Ng2021/Ng2021-signet.tab\", sep=\"\\t\")\n",
    "\n",
    "# Recorder to match signet output\n",
    "mat = mat[[c for c in example.columns if \"[\" in c]].reset_index()\n",
    "mat = mat.rename(columns = {\"index\":\"Sample\"})\n",
    "\n",
    "mat.to_csv(\"Wang2023-signet.onlyspec.tab\")"
   ]
  },
  {
   "cell_type": "markdown",
   "metadata": {},
   "source": [
    "Read data"
   ]
  },
  {
   "cell_type": "code",
   "execution_count": 2,
   "metadata": {},
   "outputs": [],
   "source": [
    "dat = pd.read_csv(\"substitutions_merged.tsv.gz\",sep=\"\\t\")\n",
    "meta = pd.read_excel(\"41588_2022_1296_MOESM4_ESM.xlsx\", sheet_name=\"4_crypt_summary\", skiprows=1)\n",
    "ages = meta.set_index(\"patient\")[\"age\"].to_dict()\n",
    "tissue = meta.set_index(\"patient\")[\"region\"].to_dict()\n",
    "stat = meta.set_index(\"patient\")[\"condition\"].to_dict()"
   ]
  },
  {
   "cell_type": "code",
   "execution_count": 14,
   "metadata": {},
   "outputs": [],
   "source": [
    "dat_l = []\n",
    "with open(f\"small_bowel/data/vcf/{vcf}\", \"r\") as fh:\n",
    "    sample = vcf.replace(\"_final_snp.vcf\", \"\")\n",
    "    for line in fh:\n",
    "        if line.startswith(\"#\"): continue\n",
    "        line = line.strip()\n",
    "        fields = line.split()\n",
    "        dat_l.append([fields[0], fields[1], fields[3], fields[4], sample])\n",
    "dat0 = pd.DataFrame(dat_l)\n",
    "dat0.columns = [\"Chr\", \"Pos\", \"Ref\", \"Alt\", \"Sample\"]"
   ]
  },
  {
   "cell_type": "markdown",
   "metadata": {},
   "source": [
    "Add missing columns"
   ]
  },
  {
   "cell_type": "code",
   "execution_count": null,
   "metadata": {},
   "outputs": [],
   "source": [
    "dat[\"Individual\"] = dat[\"Patient\"]\n",
    "dat[\"Study\"] = \"Wang2023\"\n",
    "dat[\"Compartment\"] = \"WGS\"\n",
    "dat[\"Chr\"] = \"chr\" + dat[\"Chr\"]\n",
    "dat[\"Tissue_CellType\"] = \"Small intestine\""
   ]
  },
  {
   "cell_type": "code",
   "execution_count": 4,
   "metadata": {},
   "outputs": [],
   "source": [
    "dat = tools.keep_snps(dat).reset_index(drop=\"True\")\n",
    "dat = dat[~dat[\"Chr\"].isin([\"chrX\", \"chrY\"])]"
   ]
  },
  {
   "cell_type": "code",
   "execution_count": 5,
   "metadata": {},
   "outputs": [],
   "source": [
    "cosmic = tools.COSMIC()\n",
    "dat = tools.annotate_context(dat, \"../fasta/hg19.fa\")\n",
    "dat = dat.assign(GeneralType=tools.annotate_general_type(dat))\n",
    "dat['Type'] = cosmic.fold(dat['GeneralType'])"
   ]
  },
  {
   "cell_type": "code",
   "execution_count": 6,
   "metadata": {},
   "outputs": [],
   "source": [
    "dat[col_order].to_csv(\"Wang2023.csv.gz\", compression=\"gzip\", index=False)"
   ]
  },
  {
   "cell_type": "markdown",
   "metadata": {},
   "source": [
    "Metafile"
   ]
  },
  {
   "cell_type": "code",
   "execution_count": 6,
   "metadata": {},
   "outputs": [],
   "source": [
    "pmeta = pd.read_excel(\"41588_2022_1296_MOESM4_ESM.xlsx\", sheet_name=\"4_crypt_summary\", skiprows=1)"
   ]
  },
  {
   "cell_type": "code",
   "execution_count": 10,
   "metadata": {},
   "outputs": [],
   "source": [
    "l = list(dat.Sample.unique())\n",
    "meta = pd.DataFrame(l)\n",
    "meta.columns = [\"Sample\"]\n",
    "meta[\"Study\"] = \"Wang2023\"\n",
    "meta[\"Individual\"] = [i.split(\"_\")[0] for i in meta.Sample]\n",
    "#meta[\"Tissue_CellType\"] = \"meta[\"Individual\"].map(tissue)\"\n",
    "meta[\"Tissue_CellType\"] = \"Small intestine\"\n",
    "meta[\"Age\"] = meta[\"Individual\"].map(ages)\n",
    "meta[\"Status\"] = meta[\"Individual\"].map(stat)\n",
    "meta[\"Compartment\"] = \"WGS\""
   ]
  },
  {
   "cell_type": "code",
   "execution_count": 13,
   "metadata": {},
   "outputs": [],
   "source": [
    "meta[col_meta].to_csv(\"Wang2023.tab.gz\",sep=\"\\t\")"
   ]
  }
 ],
 "metadata": {
  "kernelspec": {
   "display_name": "base",
   "language": "python",
   "name": "python3"
  },
  "language_info": {
   "codemirror_mode": {
    "name": "ipython",
    "version": 3
   },
   "file_extension": ".py",
   "mimetype": "text/x-python",
   "name": "python",
   "nbconvert_exporter": "python",
   "pygments_lexer": "ipython3",
   "version": "3.8.5"
  }
 },
 "nbformat": 4,
 "nbformat_minor": 4
}
