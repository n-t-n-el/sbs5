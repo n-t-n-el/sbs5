{
 "cells": [
  {
   "cell_type": "code",
   "execution_count": 1,
   "metadata": {},
   "outputs": [],
   "source": [
    "import pandas as pd\n",
    "import sys\n",
    "import os\n",
    "from ete3 import Tree\n",
    "import seaborn as sns\n",
    "sys.path.append(\"/Users/marc/Desktop/PostDoc/Mutation/signature5/notebooks\")\n",
    "import tools\n",
    "\n",
    "col_order = ['Chr', 'Pos', 'Ref', 'Alt', 'Sample', 'Tissue_CellType', 'Compartment',\n",
    "             'Individual', 'Study', 'Context', 'GeneralType', 'Type']\n",
    "col_meta = [\"Study\", \"Sample\", \"Individual\", \"Age\", \"Compartment\", \"Status\", \"Tissue_CellType\"]"
   ]
  },
  {
   "cell_type": "markdown",
   "metadata": {},
   "source": [
    "Read data"
   ]
  },
  {
   "cell_type": "code",
   "execution_count": 2,
   "metadata": {},
   "outputs": [],
   "source": [
    "meta = pd.read_csv(\"cell_11495_mmc2.txt\", sep=\"\\t\")\n",
    "adj_burdens = meta.set_index(\"crypt_ID\")[\"adj_snv\"].to_dict()"
   ]
  },
  {
   "cell_type": "code",
   "execution_count": 3,
   "metadata": {},
   "outputs": [],
   "source": [
    "dat0 = pd.read_csv(\"All_IBD_cohort_mutations_mapped_to_branches.txt\",sep=\"\\t\")\n",
    "dat0 = dat0.rename(columns={\"SampleID\":\"Sample\", \"Patient_ID\":\"Individual\"})\n",
    "dat1 = pd.read_csv(\"All_control_cohort_mutations_mapped_to_branches.txt\",sep=\"\\t\")\n",
    "dat1 = dat1.rename(columns={\"SampleID\":\"Sample\"})\n",
    "dat1[\"Individual\"] = dat1.Sample.str.split(\"_\").str[0]\n",
    "dat = pd.concat([dat0, dat1], axis=0)"
   ]
  },
  {
   "cell_type": "code",
   "execution_count": 4,
   "metadata": {},
   "outputs": [],
   "source": [
    "dat[\"Tissue_CellType\"] = \"Colonic_crypt\"\n",
    "dat[\"Study\"] = \"Olafsson2020\"\n",
    "dat[\"Compartment\"] = \"WGS\"\n",
    "dat[\"Chr\"] = \"chr\" + dat[\"Chr\"]\n",
    "dat[\"Pos\"] = dat.Pos.astype(int)\n",
    "dat = tools.keep_snps(dat).reset_index(drop=\"True\")\n",
    "#dat = dat[~dat[\"Chr\"].isin([\"chrX\", \"chrY\"])]"
   ]
  },
  {
   "cell_type": "code",
   "execution_count": 5,
   "metadata": {},
   "outputs": [],
   "source": [
    "def rename_tree_nodes(newick_file, indv):\n",
    "    with open(newick_file, 'r') as f:\n",
    "        t = Tree(f.read().strip())\n",
    "    \n",
    "    name_map = {}\n",
    "    bls = {}\n",
    "    i = 1\n",
    "    \n",
    "    # Rename terminal nodes (leaves)\n",
    "    for leaf in t.iter_leaves():\n",
    "        original_name = leaf.name\n",
    "        new_name = f\"{indv}_{i}\"\n",
    "        leaf.name = new_name\n",
    "        name_map[new_name] = original_name\n",
    "        bls[new_name] = leaf.dist\n",
    "        i += 1\n",
    "    \n",
    "    # Rename internal nodes\n",
    "    for node in t.traverse(\"preorder\"):\n",
    "        if not node.is_leaf():\n",
    "            new_name = f\"{indv}_{i}\"\n",
    "            if not node.name:  # Handle unnamed nodes\n",
    "                node.name = new_name\n",
    "            else:\n",
    "                name_map[node.name] = new_name\n",
    "                node.name = new_name\n",
    "            if node.dist>0:\n",
    "                bls[new_name] = node.dist\n",
    "            i += 1\n",
    "    \n",
    "    # Return the modified Newick and name mapping\n",
    "    return t.write(format=1), bls, name_map\n",
    "\n",
    "def get_terminal_descendants(newick_str):\n",
    "    t = Tree(newick_str, format=1)\n",
    "    return {\n",
    "        node.name: [leaf.name for leaf in node.iter_leaves()]\n",
    "        for node in t.traverse()\n",
    "    }\n"
   ]
  },
  {
   "cell_type": "code",
   "execution_count": 6,
   "metadata": {},
   "outputs": [
    {
     "name": "stdout",
     "output_type": "stream",
     "text": [
      "PD36814m5 not in adj burdens metafile\n",
      "PD37265m3 not in adj burdens metafile\n",
      "PD37226o5 not in adj burdens metafile\n",
      "PD37265m4 not in adj burdens metafile\n",
      "PD36814m8 not in adj burdens metafile\n",
      "PD37226o4 not in adj burdens metafile\n",
      "PD37226j4 not in adj burdens metafile\n",
      "PD37226j8 not in adj burdens metafile\n",
      "PD37226p7 not in adj burdens metafile\n",
      "PD37226j5 not in adj burdens metafile\n",
      "PD37226j6 not in adj burdens metafile\n",
      "PD37226j7 not in adj burdens metafile\n",
      "PD34200a_i33 not in adj burdens metafile\n",
      "PD34200a_i21 not in adj burdens metafile\n",
      "PD34200a_i22 not in adj burdens metafile\n",
      "PD34200a_i36 not in adj burdens metafile\n",
      "PD34200a_i54 not in adj burdens metafile\n",
      "PD37266c_lo0010 not in adj burdens metafile\n",
      "PD37266c_lo0012 not in adj burdens metafile\n",
      "PD37266c_lo0014 not in adj burdens metafile\n",
      "PD37266c_lo0016 not in adj burdens metafile\n",
      "PD37266c_lo0023 not in adj burdens metafile\n",
      "PD37266c_lo0018 not in adj burdens metafile\n",
      "PD37449f_lo0002 not in adj burdens metafile\n",
      "PD37449f_lo0010 not in adj burdens metafile\n",
      "PD37449f_lo0023 not in adj burdens metafile\n",
      "PD37449f_lo0016 not in adj burdens metafile\n",
      "PD37449f_lo0022 not in adj burdens metafile\n",
      "PD37449f_lo0011 not in adj burdens metafile\n",
      "PD37449f_lo0006 not in adj burdens metafile\n",
      "PD37449f_lo0019 not in adj burdens metafile\n",
      "PD37449f_lo0008 not in adj burdens metafile\n",
      "PD37449f_lo0017 not in adj burdens metafile\n",
      "P12B2_13 not in adj burdens metafile\n",
      "P12B1_18 not in adj burdens metafile\n",
      "P12B2_3 not in adj burdens metafile\n",
      "P17B2_17 not in adj burdens metafile\n",
      "P2B2_6 not in adj burdens metafile\n",
      "P37B1_4_repl not in adj burdens metafile\n",
      "P37B2_1_repl not in adj burdens metafile\n",
      "P40B2_7 not in adj burdens metafile\n",
      "P44B1_1_repl not in adj burdens metafile\n",
      "Phylogenetic_trees_SBS/patient60_MutAssign_unadj.tree does not exist\n",
      "Phylogenetic_trees_SBS/patient61_MutAssign_unadj.tree does not exist\n",
      "Phylogenetic_trees_SBS/patient62_MutAssign_unadj.tree does not exist\n"
     ]
    }
   ],
   "source": [
    "res_l = []\n",
    "burdens_l = []\n",
    "ndat_l = []\n",
    "\n",
    "for indv,df in dat.groupby(\"Individual\"):\n",
    "\n",
    "    bmuts = df.groupby(\"Sample\").size().sort_index(key=lambda x: x.str.extract('_(\\d+)')[0].astype(int)).to_dict()\n",
    "    tree_file = f\"Phylogenetic_trees_SBS/{indv}_MutAssign_unadj.tree\"\n",
    "\n",
    "    if os.path.exists(tree_file)==False:\n",
    "        print(f\"{tree_file} does not exist\")\n",
    "        continue\n",
    "\n",
    "    new_tree, blen, name_map = rename_tree_nodes(tree_file, indv)\n",
    "    descendants = get_terminal_descendants(new_tree)\n",
    "    \n",
    "    ndf_l = []\n",
    "    for _,r in df.iterrows():\n",
    "        for terminal in descendants[r.Sample]:\n",
    "            r2 = r.copy()\n",
    "            r2.Sample = terminal\n",
    "            ndf_l.append(r2)\n",
    "    ndf = pd.DataFrame(ndf_l)\n",
    "    ndat_l.append(ndf)\n",
    "\n",
    "    for t, nndf in ndf.groupby(\"Sample\"):\n",
    "        if name_map[t] not in adj_burdens:\n",
    "            print(f\"{name_map[t]} not in adj burdens metafile\")\n",
    "        else:\n",
    "            burdens_l.append([t, len(nndf), adj_burdens[name_map[t]]])\n",
    "\n",
    "    for k,v in bmuts.items():\n",
    "        res_l.append([indv, k, v, blen[k]])\n",
    "\n",
    "res = pd.DataFrame(res_l, columns=[\"indiv\", \"branch\", \"nmuts\", \"bl\"])\n",
    "res[\"dif\"] = res.bl - res.nmuts\n",
    "\n",
    "ndat = pd.concat(ndat_l)\n",
    "burdens = pd.DataFrame(burdens_l, columns=[\"Sample\", \"nmuts\", \"adj_burden\"])"
   ]
  },
  {
   "cell_type": "code",
   "execution_count": 8,
   "metadata": {},
   "outputs": [
    {
     "data": {
      "text/plain": [
       "<Axes: xlabel='dif', ylabel='Count'>"
      ]
     },
     "execution_count": 8,
     "metadata": {},
     "output_type": "execute_result"
    },
    {
     "data": {
      "image/png": "[encoded data removed]",
      "text/plain": [
       "<Figure size 432x288 with 1 Axes>"
      ]
     },
     "metadata": {
      "needs_background": "light"
     },
     "output_type": "display_data"
    }
   ],
   "source": [
    "sns.histplot(res.dif)"
   ]
  },
  {
   "cell_type": "code",
   "execution_count": 9,
   "metadata": {},
   "outputs": [],
   "source": [
    "ndat = ndat[~ndat[\"Chr\"].isin([\"chrX\", \"chrY\"])]\n",
    "cosmic = tools.COSMIC()\n",
    "ndat = tools.annotate_context(ndat, \"../fasta/hg19.fa\")\n",
    "ndat = ndat.assign(GeneralType=tools.annotate_general_type(ndat))\n",
    "ndat['Type'] = cosmic.fold(ndat['GeneralType'])"
   ]
  },
  {
   "cell_type": "code",
   "execution_count": 16,
   "metadata": {},
   "outputs": [],
   "source": [
    "ndat = ndat[col_order]\n",
    "ndat.to_csv(\"Olafsson2020.csv.gz\",index=False)"
   ]
  },
  {
   "cell_type": "markdown",
   "metadata": {},
   "source": [
    "Metafile"
   ]
  },
  {
   "cell_type": "code",
   "execution_count": 148,
   "metadata": {},
   "outputs": [],
   "source": [
    "meta0 = pd.read_excel(\"1-s2.0-S0092867420308138-mmc1.xlsx\",skiprows=2)"
   ]
  },
  {
   "cell_type": "code",
   "execution_count": 83,
   "metadata": {},
   "outputs": [],
   "source": [
    "meta0 = meta0.rename(columns = {\"patient_ID\":\"Individual\", \"Disease\":\"Status\", \"Sequencing_type\":\"Compartment\"})"
   ]
  },
  {
   "cell_type": "code",
   "execution_count": 84,
   "metadata": {},
   "outputs": [],
   "source": [
    "nodes = list(dat.Sample.unique())"
   ]
  },
  {
   "cell_type": "code",
   "execution_count": 85,
   "metadata": {},
   "outputs": [],
   "source": [
    "meta = pd.DataFrame([nodes, [n.split(\"_\")[0] for n in nodes]]).transpose()\n",
    "meta.columns = [\"Sample\", \"Individual\"]"
   ]
  },
  {
   "cell_type": "code",
   "execution_count": 86,
   "metadata": {},
   "outputs": [],
   "source": [
    "meta = meta.set_index(\"Individual\").join(meta0.set_index(\"Individual\")).reset_index()"
   ]
  },
  {
   "cell_type": "code",
   "execution_count": 53,
   "metadata": {},
   "outputs": [],
   "source": [
    "meta[\"Study\"] = \"Olafsson2020\"\n",
    "meta[\"Tissue_CellType\"] = \"Colonic_crypt\""
   ]
  },
  {
   "cell_type": "code",
   "execution_count": 55,
   "metadata": {},
   "outputs": [],
   "source": [
    "meta[col_meta].to_csv(\"Olafsson2020.tab.gz\",sep=\"\\t\")"
   ]
  }
 ],
 "metadata": {
  "kernelspec": {
   "display_name": "base",
   "language": "python",
   "name": "python3"
  },
  "language_info": {
   "codemirror_mode": {
    "name": "ipython",
    "version": 3
   },
   "file_extension": ".py",
   "mimetype": "text/x-python",
   "name": "python",
   "nbconvert_exporter": "python",
   "pygments_lexer": "ipython3",
   "version": "3.8.5"
  }
 },
 "nbformat": 4,
 "nbformat_minor": 4
}
