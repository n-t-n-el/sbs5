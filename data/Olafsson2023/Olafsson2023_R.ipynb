{
 "cells": [
  {
   "cell_type": "code",
   "execution_count": 5,
   "metadata": {
    "vscode": {
     "languageId": "r"
    }
   },
   "outputs": [],
   "source": [
    "load(file = \"somaticPsoriasis/07_signature_extraction/.RData\")"
   ]
  },
  {
   "cell_type": "code",
   "execution_count": 11,
   "metadata": {
    "vscode": {
     "languageId": "r"
    }
   },
   "outputs": [
    {
     "data": {
      "text/html": [
       "<style>\n",
       ".list-inline {list-style: none; margin:0; padding: 0}\n",
       ".list-inline>li {display: inline-block}\n",
       ".list-inline>li:not(:last-child)::after {content: \"\\00b7\"; padding: 0 .5ex}\n",
       "</style>\n",
       "<ol class=list-inline><li>'all_sigs'</li><li>'chlist'</li><li>'hdp_1'</li><li>'hdp_10'</li><li>'hdp_11'</li><li>'hdp_12'</li><li>'hdp_13'</li><li>'hdp_14'</li><li>'hdp_15'</li><li>'hdp_16'</li><li>'hdp_17'</li><li>'hdp_18'</li><li>'hdp_19'</li><li>'hdp_2'</li><li>'hdp_20'</li><li>'hdp_3'</li><li>'hdp_4'</li><li>'hdp_5'</li><li>'hdp_6'</li><li>'hdp_7'</li><li>'hdp_8'</li><li>'hdp_9'</li><li>'hdp_posterior_dir'</li><li>'i'</li><li>'mut_mat_t'</li><li>'newColNames'</li><li>'output_dir'</li><li>'patients'</li><li>'tnt'</li><li>'worked'</li></ol>\n"
      ],
      "text/latex": [
       "\\begin{enumerate*}\n",
       "\\item 'all\\_sigs'\n",
       "\\item 'chlist'\n",
       "\\item 'hdp\\_1'\n",
       "\\item 'hdp\\_10'\n",
       "\\item 'hdp\\_11'\n",
       "\\item 'hdp\\_12'\n",
       "\\item 'hdp\\_13'\n",
       "\\item 'hdp\\_14'\n",
       "\\item 'hdp\\_15'\n",
       "\\item 'hdp\\_16'\n",
       "\\item 'hdp\\_17'\n",
       "\\item 'hdp\\_18'\n",
       "\\item 'hdp\\_19'\n",
       "\\item 'hdp\\_2'\n",
       "\\item 'hdp\\_20'\n",
       "\\item 'hdp\\_3'\n",
       "\\item 'hdp\\_4'\n",
       "\\item 'hdp\\_5'\n",
       "\\item 'hdp\\_6'\n",
       "\\item 'hdp\\_7'\n",
       "\\item 'hdp\\_8'\n",
       "\\item 'hdp\\_9'\n",
       "\\item 'hdp\\_posterior\\_dir'\n",
       "\\item 'i'\n",
       "\\item 'mut\\_mat\\_t'\n",
       "\\item 'newColNames'\n",
       "\\item 'output\\_dir'\n",
       "\\item 'patients'\n",
       "\\item 'tnt'\n",
       "\\item 'worked'\n",
       "\\end{enumerate*}\n"
      ],
      "text/markdown": [
       "1. 'all_sigs'\n",
       "2. 'chlist'\n",
       "3. 'hdp_1'\n",
       "4. 'hdp_10'\n",
       "5. 'hdp_11'\n",
       "6. 'hdp_12'\n",
       "7. 'hdp_13'\n",
       "8. 'hdp_14'\n",
       "9. 'hdp_15'\n",
       "10. 'hdp_16'\n",
       "11. 'hdp_17'\n",
       "12. 'hdp_18'\n",
       "13. 'hdp_19'\n",
       "14. 'hdp_2'\n",
       "15. 'hdp_20'\n",
       "16. 'hdp_3'\n",
       "17. 'hdp_4'\n",
       "18. 'hdp_5'\n",
       "19. 'hdp_6'\n",
       "20. 'hdp_7'\n",
       "21. 'hdp_8'\n",
       "22. 'hdp_9'\n",
       "23. 'hdp_posterior_dir'\n",
       "24. 'i'\n",
       "25. 'mut_mat_t'\n",
       "26. 'newColNames'\n",
       "27. 'output_dir'\n",
       "28. 'patients'\n",
       "29. 'tnt'\n",
       "30. 'worked'\n",
       "\n",
       "\n"
      ],
      "text/plain": [
       " [1] \"all_sigs\"          \"chlist\"            \"hdp_1\"            \n",
       " [4] \"hdp_10\"            \"hdp_11\"            \"hdp_12\"           \n",
       " [7] \"hdp_13\"            \"hdp_14\"            \"hdp_15\"           \n",
       "[10] \"hdp_16\"            \"hdp_17\"            \"hdp_18\"           \n",
       "[13] \"hdp_19\"            \"hdp_2\"             \"hdp_20\"           \n",
       "[16] \"hdp_3\"             \"hdp_4\"             \"hdp_5\"            \n",
       "[19] \"hdp_6\"             \"hdp_7\"             \"hdp_8\"            \n",
       "[22] \"hdp_9\"             \"hdp_posterior_dir\" \"i\"                \n",
       "[25] \"mut_mat_t\"         \"newColNames\"       \"output_dir\"       \n",
       "[28] \"patients\"          \"tnt\"               \"worked\"           "
      ]
     },
     "metadata": {},
     "output_type": "display_data"
    }
   ],
   "source": [
    "ls()"
   ]
  }
 ],
 "metadata": {
  "kernelspec": {
   "display_name": "R",
   "language": "R",
   "name": "ir"
  },
  "language_info": {
   "codemirror_mode": "r",
   "file_extension": ".r",
   "mimetype": "text/x-r-source",
   "name": "R",
   "pygments_lexer": "r",
   "version": "4.3.0"
  }
 },
 "nbformat": 4,
 "nbformat_minor": 2
}
