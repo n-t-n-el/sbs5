{
 "cells": [
  {
   "cell_type": "code",
   "execution_count": 1,
   "metadata": {},
   "outputs": [],
   "source": [
    "import pandas as pd\n",
    "import sys\n",
    "import os\n",
    "sys.path.append(\"/Users/marc/Desktop/PostDoc/Mutation/signature5/notebooks\")\n",
    "import tools\n",
    "import numpy as np\n",
    "\n",
    "col_order = ['Chr', 'Pos', 'Ref', 'Alt', 'Sample', 'Tissue_CellType', 'Compartment',\n",
    "             'Individual', 'Study', 'Context', 'GeneralType', 'Type']\n",
    "col_meta = [\"Study\", \"Sample\", \"Individual\", \"Age\", \"Compartment\", \"Status\", \"Tissue_CellType\"]"
   ]
  },
  {
   "cell_type": "markdown",
   "metadata": {},
   "source": [
    "Process mutation files"
   ]
  },
  {
   "cell_type": "code",
   "execution_count": 2,
   "metadata": {},
   "outputs": [
    {
     "data": {
      "text/plain": [
       "True"
      ]
     },
     "execution_count": 2,
     "metadata": {},
     "output_type": "execute_result"
    }
   ],
   "source": [
    "mutfile = pd.read_csv(\"patient01_genotype_sbs.txt\", sep=\"\\t\")\n",
    "patient = \"patient01\"\n",
    "l = []\n",
    "for _,r in mutfile.iterrows():\n",
    "    micros = \",\".join(r[r>0].index)\n",
    "    mutid = r.name\n",
    "    chrom = mutid.split(\":\")[0]\n",
    "    pos = int(mutid.split(\":\")[1])\n",
    "    ref,alt = mutid.split(\":\")[2:]\n",
    "    mtype = \"SBS\" if len(ref)==1 else \"Other\"\n",
    "    l.append([patient, micros, np.nan, mutid, chrom, pos, ref, alt, mtype])\n",
    "\n",
    "df = pd.DataFrame(l, columns=['PatientID', 'MicrobiopsyID', 'ClusterID', 'MutationID', 'Chr',\n",
    "       'Pos_hg38', 'Ref', 'Alt', 'type'])\n",
    "\n",
    "dat = pd.read_excel(\"41588_2023_1545_MOESM4_ESM.xlsx\", sheet_name=\"TableS4_all_mutations\")\n",
    "dat = dat[(dat.type==\"SBS\") & (dat.PatientID==\"patient01\")].reset_index(drop=True)\n",
    "\n",
    "cols = [\"PatientID\", \"MicrobiopsyID\", \"Chr\", \"Pos_hg38\", \"Ref\", \"Alt\"]\n",
    "dat = dat[cols].sort_values(by=[\"Chr\", \"Pos_hg38\"]).reset_index(drop=True)\n",
    "df  = df[cols].sort_values(by=[\"Chr\", \"Pos_hg38\"]).reset_index(drop=True)\n",
    "### This process generates a dataframe that is exactly the same as TableS4\n",
    "df.equals(dat)"
   ]
  },
  {
   "cell_type": "code",
   "execution_count": 3,
   "metadata": {},
   "outputs": [],
   "source": [
    "path = \"binomial_filtering/binomial_filters\"\n",
    "l = []\n",
    "\n",
    "for patient in os.listdir(path):\n",
    "    if \"patient\" not in patient: continue\n",
    "    mutdata = pd.read_table(f\"{path}/{patient}/{patient}_genotype_sbs.txt\")\n",
    "    for _,r in mutdata.iterrows():\n",
    "        micros = r[r>0].index\n",
    "        mutid = r.name\n",
    "        chrom = mutid.split(\":\")[0]\n",
    "        pos = int(mutid.split(\":\")[1])\n",
    "        ref,alt = mutid.split(\":\")[2:]\n",
    "        mtype = \"SBS\" if len(ref)==1 else \"Other\"\n",
    "        for micro in micros:\n",
    "            l.append([patient, micro, mutid, chrom, pos, ref, alt, mtype])\n",
    "dat = pd.DataFrame(l, columns=['Individual', 'Sample', 'mutationid', \n",
    "                               'Chr', 'Pos', 'Ref', 'Alt', 'type'])"
   ]
  },
  {
   "cell_type": "code",
   "execution_count": 4,
   "metadata": {},
   "outputs": [
    {
     "data": {
      "text/plain": [
       "115"
      ]
     },
     "execution_count": 4,
     "metadata": {},
     "output_type": "execute_result"
    }
   ],
   "source": [
    "len(dat.Individual.unique())"
   ]
  },
  {
   "cell_type": "code",
   "execution_count": 5,
   "metadata": {},
   "outputs": [],
   "source": [
    "dat[\"Compartment\"] = \"WES+Bulk\"\n",
    "dat[\"Tissue_CellType\"] = \"Skin\"\n",
    "dat[\"Study\"] = \"Olafsson2023\"\n",
    "dat = dat[dat.type==\"SBS\"]"
   ]
  },
  {
   "cell_type": "code",
   "execution_count": 6,
   "metadata": {},
   "outputs": [],
   "source": [
    "cosmic = tools.COSMIC()\n",
    "dat = tools.annotate_context(dat, \"../fasta/hg38.fa\")\n",
    "dat = dat.assign(GeneralType=tools.annotate_general_type(dat))\n",
    "dat['Type'] = cosmic.fold(dat['GeneralType'])"
   ]
  },
  {
   "cell_type": "code",
   "execution_count": 10,
   "metadata": {},
   "outputs": [],
   "source": [
    "dat[\"Compartment\"] = dat.apply(lambda row: row.Compartment if \"WGS\" not in row.Individual else \"WGS\", axis=1)\n",
    "dat = dat[~dat[\"Chr\"].isin([\"chrX\", \"chrY\"])]\n",
    "dat[col_order].to_csv(\"Olafsson2023.csv.gz\", compression=\"gzip\", index=False)"
   ]
  },
  {
   "cell_type": "code",
   "execution_count": 130,
   "metadata": {},
   "outputs": [
    {
     "data": {
      "text/plain": [
       "array(['WES+Bulk'], dtype=object)"
      ]
     },
     "execution_count": 130,
     "metadata": {},
     "output_type": "execute_result"
    }
   ],
   "source": [
    "dat[~dat.Individual.str.contains(\"WG\")].Compartment.unique()"
   ]
  },
  {
   "cell_type": "code",
   "execution_count": 111,
   "metadata": {},
   "outputs": [],
   "source": [
    "sdat = pd.read_csv(\"Olafsson2023.csv.gz\")"
   ]
  },
  {
   "cell_type": "code",
   "execution_count": 123,
   "metadata": {},
   "outputs": [
    {
     "data": {
      "text/html": [
       "<div>\n",
       "<style scoped>\n",
       "    .dataframe tbody tr th:only-of-type {\n",
       "        vertical-align: middle;\n",
       "    }\n",
       "\n",
       "    .dataframe tbody tr th {\n",
       "        vertical-align: top;\n",
       "    }\n",
       "\n",
       "    .dataframe thead th {\n",
       "        text-align: right;\n",
       "    }\n",
       "</style>\n",
       "<table border=\"1\" class=\"dataframe\">\n",
       "  <thead>\n",
       "    <tr style=\"text-align: right;\">\n",
       "      <th></th>\n",
       "      <th>Chr</th>\n",
       "      <th>Pos</th>\n",
       "      <th>Ref</th>\n",
       "      <th>Alt</th>\n",
       "      <th>Sample</th>\n",
       "      <th>Tissue_CellType</th>\n",
       "      <th>Compartment</th>\n",
       "      <th>Individual</th>\n",
       "      <th>Study</th>\n",
       "      <th>Context</th>\n",
       "      <th>GeneralType</th>\n",
       "      <th>Type</th>\n",
       "    </tr>\n",
       "  </thead>\n",
       "  <tbody>\n",
       "    <tr>\n",
       "      <th>271570</th>\n",
       "      <td>chr10</td>\n",
       "      <td>100012694</td>\n",
       "      <td>A</td>\n",
       "      <td>G</td>\n",
       "      <td>P34H_LL_3</td>\n",
       "      <td>Skin</td>\n",
       "      <td>WES+Bulk</td>\n",
       "      <td>patient34_WGS</td>\n",
       "      <td>Olafsson2023</td>\n",
       "      <td>AAC</td>\n",
       "      <td>A[A&gt;G]C</td>\n",
       "      <td>G[T&gt;C]T</td>\n",
       "    </tr>\n",
       "    <tr>\n",
       "      <th>271573</th>\n",
       "      <td>chr10</td>\n",
       "      <td>100040322</td>\n",
       "      <td>A</td>\n",
       "      <td>C</td>\n",
       "      <td>P34H_LL_3</td>\n",
       "      <td>Skin</td>\n",
       "      <td>WES+Bulk</td>\n",
       "      <td>patient34_WGS</td>\n",
       "      <td>Olafsson2023</td>\n",
       "      <td>TAC</td>\n",
       "      <td>T[A&gt;C]C</td>\n",
       "      <td>G[T&gt;G]A</td>\n",
       "    </tr>\n",
       "    <tr>\n",
       "      <th>271574</th>\n",
       "      <td>chr10</td>\n",
       "      <td>100062252</td>\n",
       "      <td>T</td>\n",
       "      <td>G</td>\n",
       "      <td>P34H_LL_3</td>\n",
       "      <td>Skin</td>\n",
       "      <td>WES+Bulk</td>\n",
       "      <td>patient34_WGS</td>\n",
       "      <td>Olafsson2023</td>\n",
       "      <td>ATA</td>\n",
       "      <td>A[T&gt;G]A</td>\n",
       "      <td>A[T&gt;G]A</td>\n",
       "    </tr>\n",
       "    <tr>\n",
       "      <th>271577</th>\n",
       "      <td>chr10</td>\n",
       "      <td>100181105</td>\n",
       "      <td>A</td>\n",
       "      <td>T</td>\n",
       "      <td>P34H_LL_3</td>\n",
       "      <td>Skin</td>\n",
       "      <td>WES+Bulk</td>\n",
       "      <td>patient34_WGS</td>\n",
       "      <td>Olafsson2023</td>\n",
       "      <td>TAT</td>\n",
       "      <td>T[A&gt;T]T</td>\n",
       "      <td>A[T&gt;A]A</td>\n",
       "    </tr>\n",
       "    <tr>\n",
       "      <th>271581</th>\n",
       "      <td>chr10</td>\n",
       "      <td>100204983</td>\n",
       "      <td>A</td>\n",
       "      <td>T</td>\n",
       "      <td>P34H_LL_3</td>\n",
       "      <td>Skin</td>\n",
       "      <td>WES+Bulk</td>\n",
       "      <td>patient34_WGS</td>\n",
       "      <td>Olafsson2023</td>\n",
       "      <td>TAC</td>\n",
       "      <td>T[A&gt;T]C</td>\n",
       "      <td>G[T&gt;A]A</td>\n",
       "    </tr>\n",
       "    <tr>\n",
       "      <th>...</th>\n",
       "      <td>...</td>\n",
       "      <td>...</td>\n",
       "      <td>...</td>\n",
       "      <td>...</td>\n",
       "      <td>...</td>\n",
       "      <td>...</td>\n",
       "      <td>...</td>\n",
       "      <td>...</td>\n",
       "      <td>...</td>\n",
       "      <td>...</td>\n",
       "      <td>...</td>\n",
       "      <td>...</td>\n",
       "    </tr>\n",
       "    <tr>\n",
       "      <th>837723</th>\n",
       "      <td>chr9</td>\n",
       "      <td>99074014</td>\n",
       "      <td>A</td>\n",
       "      <td>G</td>\n",
       "      <td>P34H_LL_3</td>\n",
       "      <td>Skin</td>\n",
       "      <td>WES+Bulk</td>\n",
       "      <td>patient34</td>\n",
       "      <td>Olafsson2023</td>\n",
       "      <td>TAA</td>\n",
       "      <td>T[A&gt;G]A</td>\n",
       "      <td>T[T&gt;C]A</td>\n",
       "    </tr>\n",
       "    <tr>\n",
       "      <th>837724</th>\n",
       "      <td>chr9</td>\n",
       "      <td>99137754</td>\n",
       "      <td>T</td>\n",
       "      <td>A</td>\n",
       "      <td>P34H_LL_3</td>\n",
       "      <td>Skin</td>\n",
       "      <td>WES+Bulk</td>\n",
       "      <td>patient34</td>\n",
       "      <td>Olafsson2023</td>\n",
       "      <td>ATA</td>\n",
       "      <td>A[T&gt;A]A</td>\n",
       "      <td>A[T&gt;A]A</td>\n",
       "    </tr>\n",
       "    <tr>\n",
       "      <th>837726</th>\n",
       "      <td>chr9</td>\n",
       "      <td>99227841</td>\n",
       "      <td>T</td>\n",
       "      <td>A</td>\n",
       "      <td>P34H_LL_3</td>\n",
       "      <td>Skin</td>\n",
       "      <td>WES+Bulk</td>\n",
       "      <td>patient34</td>\n",
       "      <td>Olafsson2023</td>\n",
       "      <td>ATA</td>\n",
       "      <td>A[T&gt;A]A</td>\n",
       "      <td>A[T&gt;A]A</td>\n",
       "    </tr>\n",
       "    <tr>\n",
       "      <th>837739</th>\n",
       "      <td>chr9</td>\n",
       "      <td>99909774</td>\n",
       "      <td>T</td>\n",
       "      <td>A</td>\n",
       "      <td>P34H_LL_3</td>\n",
       "      <td>Skin</td>\n",
       "      <td>WES+Bulk</td>\n",
       "      <td>patient34</td>\n",
       "      <td>Olafsson2023</td>\n",
       "      <td>ATA</td>\n",
       "      <td>A[T&gt;A]A</td>\n",
       "      <td>A[T&gt;A]A</td>\n",
       "    </tr>\n",
       "    <tr>\n",
       "      <th>837740</th>\n",
       "      <td>chr9</td>\n",
       "      <td>99915939</td>\n",
       "      <td>A</td>\n",
       "      <td>T</td>\n",
       "      <td>P34H_LL_3</td>\n",
       "      <td>Skin</td>\n",
       "      <td>WES+Bulk</td>\n",
       "      <td>patient34</td>\n",
       "      <td>Olafsson2023</td>\n",
       "      <td>TAA</td>\n",
       "      <td>T[A&gt;T]A</td>\n",
       "      <td>T[T&gt;A]A</td>\n",
       "    </tr>\n",
       "  </tbody>\n",
       "</table>\n",
       "<p>171873 rows × 12 columns</p>\n",
       "</div>"
      ],
      "text/plain": [
       "          Chr        Pos Ref Alt     Sample Tissue_CellType Compartment  \\\n",
       "271570  chr10  100012694   A   G  P34H_LL_3            Skin    WES+Bulk   \n",
       "271573  chr10  100040322   A   C  P34H_LL_3            Skin    WES+Bulk   \n",
       "271574  chr10  100062252   T   G  P34H_LL_3            Skin    WES+Bulk   \n",
       "271577  chr10  100181105   A   T  P34H_LL_3            Skin    WES+Bulk   \n",
       "271581  chr10  100204983   A   T  P34H_LL_3            Skin    WES+Bulk   \n",
       "...       ...        ...  ..  ..        ...             ...         ...   \n",
       "837723   chr9   99074014   A   G  P34H_LL_3            Skin    WES+Bulk   \n",
       "837724   chr9   99137754   T   A  P34H_LL_3            Skin    WES+Bulk   \n",
       "837726   chr9   99227841   T   A  P34H_LL_3            Skin    WES+Bulk   \n",
       "837739   chr9   99909774   T   A  P34H_LL_3            Skin    WES+Bulk   \n",
       "837740   chr9   99915939   A   T  P34H_LL_3            Skin    WES+Bulk   \n",
       "\n",
       "           Individual         Study Context GeneralType     Type  \n",
       "271570  patient34_WGS  Olafsson2023     AAC     A[A>G]C  G[T>C]T  \n",
       "271573  patient34_WGS  Olafsson2023     TAC     T[A>C]C  G[T>G]A  \n",
       "271574  patient34_WGS  Olafsson2023     ATA     A[T>G]A  A[T>G]A  \n",
       "271577  patient34_WGS  Olafsson2023     TAT     T[A>T]T  A[T>A]A  \n",
       "271581  patient34_WGS  Olafsson2023     TAC     T[A>T]C  G[T>A]A  \n",
       "...               ...           ...     ...         ...      ...  \n",
       "837723      patient34  Olafsson2023     TAA     T[A>G]A  T[T>C]A  \n",
       "837724      patient34  Olafsson2023     ATA     A[T>A]A  A[T>A]A  \n",
       "837726      patient34  Olafsson2023     ATA     A[T>A]A  A[T>A]A  \n",
       "837739      patient34  Olafsson2023     ATA     A[T>A]A  A[T>A]A  \n",
       "837740      patient34  Olafsson2023     TAA     T[A>T]A  T[T>A]A  \n",
       "\n",
       "[171873 rows x 12 columns]"
      ]
     },
     "execution_count": 123,
     "metadata": {},
     "output_type": "execute_result"
    }
   ],
   "source": [
    "sdat[sdat.Sample.str.contains(\"P34H_LL_3\")]"
   ]
  },
  {
   "cell_type": "markdown",
   "metadata": {},
   "source": [
    "Read data"
   ]
  },
  {
   "cell_type": "code",
   "execution_count": 1,
   "metadata": {},
   "outputs": [],
   "source": [
    "dat = pd.read_excel(\"41588_2023_1545_MOESM4_ESM.xlsx\", sheet_name=\"TableS4_all_mutations\")"
   ]
  },
  {
   "cell_type": "code",
   "execution_count": 33,
   "metadata": {},
   "outputs": [
    {
     "data": {
      "text/html": [
       "<div>\n",
       "<style scoped>\n",
       "    .dataframe tbody tr th:only-of-type {\n",
       "        vertical-align: middle;\n",
       "    }\n",
       "\n",
       "    .dataframe tbody tr th {\n",
       "        vertical-align: top;\n",
       "    }\n",
       "\n",
       "    .dataframe thead th {\n",
       "        text-align: right;\n",
       "    }\n",
       "</style>\n",
       "<table border=\"1\" class=\"dataframe\">\n",
       "  <thead>\n",
       "    <tr style=\"text-align: right;\">\n",
       "      <th></th>\n",
       "      <th>PatientID</th>\n",
       "      <th>MicrobiopsyID</th>\n",
       "      <th>ClusterID</th>\n",
       "      <th>MutationID</th>\n",
       "      <th>Chr</th>\n",
       "      <th>Pos_hg38</th>\n",
       "      <th>Ref</th>\n",
       "      <th>Alt</th>\n",
       "      <th>type</th>\n",
       "    </tr>\n",
       "  </thead>\n",
       "  <tbody>\n",
       "    <tr>\n",
       "      <th>0</th>\n",
       "      <td>patient01</td>\n",
       "      <td>P01L_LL_10,P01L_17</td>\n",
       "      <td>patient01_36</td>\n",
       "      <td>P01:chr1:10018498:A:T</td>\n",
       "      <td>chr1</td>\n",
       "      <td>10018498</td>\n",
       "      <td>A</td>\n",
       "      <td>T</td>\n",
       "      <td>SBS</td>\n",
       "    </tr>\n",
       "    <tr>\n",
       "      <th>1</th>\n",
       "      <td>patient01</td>\n",
       "      <td>P01L_16</td>\n",
       "      <td>patient01_4</td>\n",
       "      <td>P01:chr1:100268476:A:C</td>\n",
       "      <td>chr1</td>\n",
       "      <td>100268476</td>\n",
       "      <td>A</td>\n",
       "      <td>C</td>\n",
       "      <td>SBS</td>\n",
       "    </tr>\n",
       "    <tr>\n",
       "      <th>2</th>\n",
       "      <td>patient01</td>\n",
       "      <td>P01L_LL_13</td>\n",
       "      <td>patient01_28</td>\n",
       "      <td>P01:chr1:100348186:G:A</td>\n",
       "      <td>chr1</td>\n",
       "      <td>100348186</td>\n",
       "      <td>G</td>\n",
       "      <td>A</td>\n",
       "      <td>SBS</td>\n",
       "    </tr>\n",
       "    <tr>\n",
       "      <th>3</th>\n",
       "      <td>patient01</td>\n",
       "      <td>P01L_20</td>\n",
       "      <td>patient01_38</td>\n",
       "      <td>P01:chr1:100743353:G:A</td>\n",
       "      <td>chr1</td>\n",
       "      <td>100743353</td>\n",
       "      <td>G</td>\n",
       "      <td>A</td>\n",
       "      <td>SBS</td>\n",
       "    </tr>\n",
       "    <tr>\n",
       "      <th>4</th>\n",
       "      <td>patient01</td>\n",
       "      <td>P01H_LL_8</td>\n",
       "      <td>patient01_20</td>\n",
       "      <td>P01:chr1:1007997:C:T</td>\n",
       "      <td>chr1</td>\n",
       "      <td>1007997</td>\n",
       "      <td>C</td>\n",
       "      <td>T</td>\n",
       "      <td>SBS</td>\n",
       "    </tr>\n",
       "    <tr>\n",
       "      <th>...</th>\n",
       "      <td>...</td>\n",
       "      <td>...</td>\n",
       "      <td>...</td>\n",
       "      <td>...</td>\n",
       "      <td>...</td>\n",
       "      <td>...</td>\n",
       "      <td>...</td>\n",
       "      <td>...</td>\n",
       "      <td>...</td>\n",
       "    </tr>\n",
       "    <tr>\n",
       "      <th>15231</th>\n",
       "      <td>patient01</td>\n",
       "      <td>P01L_LL_12</td>\n",
       "      <td>patient01_30</td>\n",
       "      <td>P01:chrX:9809778:C:T</td>\n",
       "      <td>chrX</td>\n",
       "      <td>9809778</td>\n",
       "      <td>C</td>\n",
       "      <td>T</td>\n",
       "      <td>SBS</td>\n",
       "    </tr>\n",
       "    <tr>\n",
       "      <th>15232</th>\n",
       "      <td>patient01</td>\n",
       "      <td>P01H_LL_6</td>\n",
       "      <td>patient01_24</td>\n",
       "      <td>P01:chrX:9836549:C:T</td>\n",
       "      <td>chrX</td>\n",
       "      <td>9836549</td>\n",
       "      <td>C</td>\n",
       "      <td>T</td>\n",
       "      <td>SBS</td>\n",
       "    </tr>\n",
       "    <tr>\n",
       "      <th>15233</th>\n",
       "      <td>patient01</td>\n",
       "      <td>P01L_LL_10,P01L_LL_12</td>\n",
       "      <td>NaN</td>\n",
       "      <td>P01:chrY:19716089:T:C</td>\n",
       "      <td>chrY</td>\n",
       "      <td>19716089</td>\n",
       "      <td>T</td>\n",
       "      <td>C</td>\n",
       "      <td>SBS</td>\n",
       "    </tr>\n",
       "    <tr>\n",
       "      <th>15234</th>\n",
       "      <td>patient01</td>\n",
       "      <td>P01L_18</td>\n",
       "      <td>NaN</td>\n",
       "      <td>P01:chrY:20781363:A:T</td>\n",
       "      <td>chrY</td>\n",
       "      <td>20781363</td>\n",
       "      <td>A</td>\n",
       "      <td>T</td>\n",
       "      <td>SBS</td>\n",
       "    </tr>\n",
       "    <tr>\n",
       "      <th>15235</th>\n",
       "      <td>patient01</td>\n",
       "      <td>P01H_LL_6</td>\n",
       "      <td>NaN</td>\n",
       "      <td>P01:chrY:5447194:G:A</td>\n",
       "      <td>chrY</td>\n",
       "      <td>5447194</td>\n",
       "      <td>G</td>\n",
       "      <td>A</td>\n",
       "      <td>SBS</td>\n",
       "    </tr>\n",
       "  </tbody>\n",
       "</table>\n",
       "<p>13709 rows × 9 columns</p>\n",
       "</div>"
      ],
      "text/plain": [
       "       PatientID          MicrobiopsyID     ClusterID              MutationID  \\\n",
       "0      patient01     P01L_LL_10,P01L_17  patient01_36   P01:chr1:10018498:A:T   \n",
       "1      patient01                P01L_16   patient01_4  P01:chr1:100268476:A:C   \n",
       "2      patient01             P01L_LL_13  patient01_28  P01:chr1:100348186:G:A   \n",
       "3      patient01                P01L_20  patient01_38  P01:chr1:100743353:G:A   \n",
       "4      patient01              P01H_LL_8  patient01_20    P01:chr1:1007997:C:T   \n",
       "...          ...                    ...           ...                     ...   \n",
       "15231  patient01             P01L_LL_12  patient01_30    P01:chrX:9809778:C:T   \n",
       "15232  patient01              P01H_LL_6  patient01_24    P01:chrX:9836549:C:T   \n",
       "15233  patient01  P01L_LL_10,P01L_LL_12           NaN   P01:chrY:19716089:T:C   \n",
       "15234  patient01                P01L_18           NaN   P01:chrY:20781363:A:T   \n",
       "15235  patient01              P01H_LL_6           NaN    P01:chrY:5447194:G:A   \n",
       "\n",
       "        Chr   Pos_hg38 Ref Alt type  \n",
       "0      chr1   10018498   A   T  SBS  \n",
       "1      chr1  100268476   A   C  SBS  \n",
       "2      chr1  100348186   G   A  SBS  \n",
       "3      chr1  100743353   G   A  SBS  \n",
       "4      chr1    1007997   C   T  SBS  \n",
       "...     ...        ...  ..  ..  ...  \n",
       "15231  chrX    9809778   C   T  SBS  \n",
       "15232  chrX    9836549   C   T  SBS  \n",
       "15233  chrY   19716089   T   C  SBS  \n",
       "15234  chrY   20781363   A   T  SBS  \n",
       "15235  chrY    5447194   G   A  SBS  \n",
       "\n",
       "[13709 rows x 9 columns]"
      ]
     },
     "execution_count": 33,
     "metadata": {},
     "output_type": "execute_result"
    }
   ],
   "source": [
    "dat[(dat.PatientID==\"patient01\") & (dat.type==\"SBS\")]"
   ]
  },
  {
   "cell_type": "code",
   "execution_count": 3,
   "metadata": {},
   "outputs": [],
   "source": [
    "dat[\"Individual\"] = dat.PatientID\n",
    "dat[\"Pos\"] = dat.Pos_hg38\n",
    "dat[\"Sample\"] = dat[\"ClusterID\"]\n",
    "dat[\"Compartment\"] = \"WES+Bulk\"\n",
    "dat[\"Tissue_CellType\"] = \"Skin\"\n",
    "dat[\"Study\"] = \"Olafsson2023\"\n",
    "dat = dat[dat.type==\"SBS\"]"
   ]
  },
  {
   "cell_type": "code",
   "execution_count": 4,
   "metadata": {},
   "outputs": [],
   "source": [
    "cosmic = tools.COSMIC()\n",
    "dat = tools.annotate_context(dat, \"../fasta/hg38.fa\")\n",
    "dat = dat.assign(GeneralType=tools.annotate_general_type(dat))\n",
    "dat['Type'] = cosmic.fold(dat['GeneralType'])"
   ]
  },
  {
   "cell_type": "code",
   "execution_count": 22,
   "metadata": {},
   "outputs": [],
   "source": [
    "ndat_l = []\n",
    "for _,r in dat.iterrows():\n",
    "    for microb in r.MicrobiopsyID.split(\",\"):\n",
    "        r.Sample = microb\n",
    "        ndat_l.append(r)\n",
    "ndat = pd.DataFrame(ndat_l)"
   ]
  },
  {
   "cell_type": "code",
   "execution_count": 25,
   "metadata": {},
   "outputs": [],
   "source": [
    "ndat[col_order].to_csv(\"Olafsson2023.csv.gz\", compression=\"gzip\", index=False)"
   ]
  },
  {
   "cell_type": "code",
   "execution_count": 1,
   "metadata": {},
   "outputs": [],
   "source": [
    "pmeta1 = pd.read_excel(\"41588_2023_1545_MOESM4_ESM.xlsx\", sheet_name=\"TableS1_patient_metadata\")\n",
    "pmeta2 = pd.read_excel(\"41588_2023_1545_MOESM4_ESM.xlsx\", sheet_name=\"TableS2_Microdissection_metadat\")"
   ]
  },
  {
   "cell_type": "code",
   "execution_count": 4,
   "metadata": {},
   "outputs": [
    {
     "data": {
      "text/plain": [
       "Index(['SampleID', 'BiopsyID', 'MetaLocation', 'DetailedLocation',\n",
       "       'DiseaseStatus', 'PatientID', 'SangerSampleID', 'SangerPlateID',\n",
       "       'CutVolume', 'CutArea', 'NrZstacks', 'LibraryConcentration',\n",
       "       'ASCAT_normal', 'MedianCoverage', 'MedianVAF', 'PCT_PF_UQ_READS',\n",
       "       'PCT_OFF_BAIT', 'FreeMix', 'ExclusionCriteria',\n",
       "       'TotalNumberSubstitutions', 'TotalNumberSingleBase',\n",
       "       'TotalNumberDoubleBase', 'TotalNumberIndels', 'SubsGtVAF10',\n",
       "       'SbsGtVAF10', 'DbsGtVAF10', 'IndelGtVAF10'],\n",
       "      dtype='object')"
      ]
     },
     "execution_count": 4,
     "metadata": {},
     "output_type": "execute_result"
    }
   ],
   "source": [
    "pmeta2.columns"
   ]
  },
  {
   "cell_type": "code",
   "execution_count": 21,
   "metadata": {},
   "outputs": [],
   "source": [
    "cell2indv = dat.set_index(\"Sample\")[\"PatientID\"].to_dict()\n",
    "ages = pmeta1.set_index(\"Patient.ID\")[\"Age_at_sampling\"].to_dict()\n",
    "stat = pmeta2.set_index(\"PatientID\")[\"DiseaseStatus\"].to_dict()\n",
    "c = {\"Non-lesional\":\"Normal\", \"Lesional\":\"Psoriasis\"}\n",
    "stat = {k:c[v] for k,v in stat.items()}"
   ]
  },
  {
   "cell_type": "code",
   "execution_count": 26,
   "metadata": {},
   "outputs": [
    {
     "data": {
      "text/plain": [
       "Index(['SampleID', 'BiopsyID', 'MetaLocation', 'DetailedLocation',\n",
       "       'DiseaseStatus', 'PatientID', 'SangerSampleID', 'SangerPlateID',\n",
       "       'CutVolume', 'CutArea', 'NrZstacks', 'LibraryConcentration',\n",
       "       'ASCAT_normal', 'MedianCoverage', 'MedianVAF', 'PCT_PF_UQ_READS',\n",
       "       'PCT_OFF_BAIT', 'FreeMix', 'ExclusionCriteria',\n",
       "       'TotalNumberSubstitutions', 'TotalNumberSingleBase',\n",
       "       'TotalNumberDoubleBase', 'TotalNumberIndels', 'SubsGtVAF10',\n",
       "       'SbsGtVAF10', 'DbsGtVAF10', 'IndelGtVAF10'],\n",
       "      dtype='object')"
      ]
     },
     "execution_count": 26,
     "metadata": {},
     "output_type": "execute_result"
    }
   ],
   "source": [
    "pmeta2.columns"
   ]
  },
  {
   "cell_type": "code",
   "execution_count": 23,
   "metadata": {},
   "outputs": [],
   "source": [
    "l = list(dat.Sample.unique())\n",
    "meta = pd.DataFrame(l)\n",
    "meta.columns = [\"Sample\"]\n",
    "meta[\"Study\"] = \"Olafsson2023\"\n",
    "meta[\"Individual\"] = meta.Sample.map(cell2indv)\n",
    "meta[\"Tissue_CellType\"] = \"Skin\"\n",
    "meta[\"Age\"] = meta[\"Individual\"].map(ages)\n",
    "meta[\"Status\"] = meta.Sample.str.split(\",\").str[0].map(stat)\n",
    "meta[\"Compartment\"] = \"WES+Bulk\""
   ]
  },
  {
   "cell_type": "code",
   "execution_count": 27,
   "metadata": {},
   "outputs": [],
   "source": [
    "meta[col_meta].to_csv(\"Olafsson2023.tab.gz\",sep=\"\\t\", index=False)"
   ]
  }
 ],
 "metadata": {
  "kernelspec": {
   "display_name": "base",
   "language": "python",
   "name": "python3"
  },
  "language_info": {
   "codemirror_mode": {
    "name": "ipython",
    "version": 3
   },
   "file_extension": ".py",
   "mimetype": "text/x-python",
   "name": "python",
   "nbconvert_exporter": "python",
   "pygments_lexer": "ipython3",
   "version": "3.8.5"
  }
 },
 "nbformat": 4,
 "nbformat_minor": 4
}
