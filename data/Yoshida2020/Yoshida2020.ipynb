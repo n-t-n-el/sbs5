{
 "cells": [
  {
   "cell_type": "code",
   "execution_count": 1,
   "metadata": {},
   "outputs": [],
   "source": [
    "import pandas as pd\n",
    "import sys\n",
    "import os\n",
    "sys.path.append(\"/Users/marc/Desktop/PostDoc/Mutation/signature5/notebooks\")\n",
    "import tools\n",
    "\n",
    "col_order = ['Chr', 'Pos', 'Ref', 'Alt', 'Sample', 'Tissue_CellType', 'Compartment',\n",
    "             'Individual', 'Study', 'Context', 'GeneralType', 'Type']\n",
    "col_meta = [\"Study\", \"Sample\", \"Individual\", \"Age\", \"Compartment\", \"Status\", \"Tissue_CellType\"]"
   ]
  },
  {
   "cell_type": "code",
   "execution_count": 2,
   "metadata": {},
   "outputs": [],
   "source": [
    "def clean_indv(s):\n",
    "    return \"\".join([c for c in s if c.isdigit() or c.isupper()])"
   ]
  },
  {
   "cell_type": "markdown",
   "metadata": {},
   "source": [
    "Read data"
   ]
  },
  {
   "cell_type": "code",
   "execution_count": 3,
   "metadata": {},
   "outputs": [],
   "source": [
    "meta = pd.read_csv(\"Lung_organoids_telomeres_with_contamination_20190408.txt\",sep=\"\\t\")"
   ]
  },
  {
   "cell_type": "code",
   "execution_count": 4,
   "metadata": {},
   "outputs": [],
   "source": [
    "meta[\"Individual\"] = meta.Sample.apply(clean_indv)"
   ]
  },
  {
   "cell_type": "code",
   "execution_count": 5,
   "metadata": {},
   "outputs": [],
   "source": [
    "dat_l = []\n",
    "for indv in meta.Individual.unique():\n",
    "    df = pd.read_excel(\"Bronchial epithelium subs.xlsx\", sheet_name=indv)\n",
    "    df[\"Chr\"] = \"chr\" + df.Chrom.astype(str)\n",
    "    df[\"Cell\"] = df.Sample\n",
    "    df[\"Study\"] = \"Yoshida2020\"\n",
    "    df = df.rename(columns={\"Type\": \"SType\"})\n",
    "    dat_l.append(df)\n",
    "dat = pd.concat(dat_l)"
   ]
  },
  {
   "cell_type": "code",
   "execution_count": 43,
   "metadata": {},
   "outputs": [],
   "source": [
    "cosmic = tools.COSMIC()\n",
    "dat = tools.annotate_context(dat, \"../fasta/hg19.fa\")\n",
    "dat = dat.assign(GeneralType=tools.annotate_general_type(dat))\n",
    "dat['Type'] = cosmic.fold(dat['GeneralType'])"
   ]
  },
  {
   "cell_type": "code",
   "execution_count": 48,
   "metadata": {},
   "outputs": [],
   "source": [
    "dat = tools.keep_snps(dat).reset_index(drop=\"True\")\n",
    "dat = dat[~dat[\"Chr\"].isin([\"chrX\", \"chrY\"])]\n",
    "dat[\"Individual\"] = [clean_indv(i) for i in dat.Sample]\n",
    "dat[\"Compartment\"] = \"WGS\""
   ]
  },
  {
   "cell_type": "code",
   "execution_count": null,
   "metadata": {},
   "outputs": [],
   "source": [
    "#dat = pd.read_csv(\"Yoshida2020.pre.csv.gz\")\n",
    "#dat[\"Sample\"] = dat[\"Cell\"]\n",
    "#dat[\"Individual\"] = [clean_indv(i) for i in dat.Sample]\n",
    "#dat[\"Compartment\"] = \"WGS\"\n",
    "\n",
    "#cosmic = tools.COSMIC()\n",
    "#dat = tools.annotate_context(dat, \"../fasta/hg19.fa\")\n",
    "#dat = dat.assign(GeneralType=tools.annotate_general_type(dat))\n",
    "#dat['Type'] = cosmic.fold(dat['GeneralType'])"
   ]
  },
  {
   "cell_type": "code",
   "execution_count": 46,
   "metadata": {},
   "outputs": [
    {
     "data": {
      "text/plain": [
       "chrom_id\n",
       "chr1010000269G     1\n",
       "chr4134024882T     1\n",
       "chr4134024417T     1\n",
       "chr413402375T      1\n",
       "chr4134023287T     1\n",
       "                  ..\n",
       "chr627309171A     47\n",
       "chr928576784A     48\n",
       "chr1922102655A    48\n",
       "chr591245852T     50\n",
       "chr1210546912A    50\n",
       "Length: 1598628, dtype: int64"
      ]
     },
     "execution_count": 46,
     "metadata": {},
     "output_type": "execute_result"
    }
   ],
   "source": [
    "dat[\"chrom_id\"] = dat[\"Chr\"] + dat[\"Pos\"].astype(str) + dat[\"Alt\"]\n",
    "dat.groupby(\"chrom_id\").size().sort_values()"
   ]
  },
  {
   "cell_type": "code",
   "execution_count": 49,
   "metadata": {},
   "outputs": [],
   "source": [
    "dat[\"Tissue_CellType\"] = \"Lung\"\n",
    "dat[col_order].to_csv(\"Yoshida2020.csv.gz\", compression=\"gzip\", index=False)"
   ]
  },
  {
   "cell_type": "markdown",
   "metadata": {},
   "source": [
    "Metafile"
   ]
  },
  {
   "cell_type": "code",
   "execution_count": 7,
   "metadata": {},
   "outputs": [],
   "source": [
    "meta[\"Individual\"] = [clean_indv(s) for s in meta.Sample]\n",
    "meta[\"Compartment\"] = \"WGS\""
   ]
  },
  {
   "cell_type": "code",
   "execution_count": 8,
   "metadata": {},
   "outputs": [],
   "source": [
    "meta[\"Tissue_CellType\"] = \"Lung\"\n",
    "meta[\"Status\"] = meta.Smoking\n",
    "meta[\"Study\"] = \"Yoshida2020\""
   ]
  },
  {
   "cell_type": "code",
   "execution_count": 3,
   "metadata": {},
   "outputs": [
    {
     "name": "stdout",
     "output_type": "stream",
     "text": [
      " 219 ex-smoker\n",
      " 256 non-smoker\n",
      " 157 smoker\n",
      "   1 Smoking\n"
     ]
    }
   ],
   "source": [
    "!gunzip -c Yoshida2020.tab.gz | rev | cut -f2 | rev | sort | uniq -c "
   ]
  },
  {
   "cell_type": "code",
   "execution_count": 12,
   "metadata": {},
   "outputs": [],
   "source": [
    "meta[col_meta + [\"Smoking\", \"PackYear\"]].to_csv(\"Yoshida2020.tab.gz\",sep=\"\\t\")"
   ]
  }
 ],
 "metadata": {
  "kernelspec": {
   "display_name": "base",
   "language": "python",
   "name": "python3"
  },
  "language_info": {
   "codemirror_mode": {
    "name": "ipython",
    "version": 3
   },
   "file_extension": ".py",
   "mimetype": "text/x-python",
   "name": "python",
   "nbconvert_exporter": "python",
   "pygments_lexer": "ipython3",
   "version": "3.8.5"
  }
 },
 "nbformat": 4,
 "nbformat_minor": 4
}
