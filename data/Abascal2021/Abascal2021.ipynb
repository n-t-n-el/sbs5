{
 "cells": [
  {
   "cell_type": "code",
   "execution_count": 1,
   "metadata": {},
   "outputs": [],
   "source": [
    "import pandas as pd\n",
    "import sys\n",
    "import os\n",
    "sys.path.append(\"/Users/marc/Desktop/PostDoc/Mutation/signature5/notebooks\")\n",
    "import tools\n",
    "\n",
    "col_order = ['Chr', 'Pos', 'Ref', 'Alt', 'Sample', 'Tissue_CellType', 'Compartment',\n",
    "             'Individual', 'Study', 'Context', 'GeneralType', 'Type']\n",
    "col_meta = [\"Study\", \"Sample\", \"Individual\", \"Age\", \"Compartment\", \"Status\", \"Tissue_CellType\"]"
   ]
  },
  {
   "cell_type": "markdown",
   "metadata": {},
   "source": [
    "Read data"
   ]
  },
  {
   "cell_type": "code",
   "execution_count": 2,
   "metadata": {},
   "outputs": [],
   "source": [
    "dat = pd.read_csv(\"Abascal2021.pre.csv.gz\")"
   ]
  },
  {
   "cell_type": "code",
   "execution_count": 25,
   "metadata": {},
   "outputs": [],
   "source": [
    "dat[\"Sample\"] = dat.Cell\n",
    "dat[\"Individual\"] = dat.Cell.str[:7]"
   ]
  },
  {
   "cell_type": "code",
   "execution_count": null,
   "metadata": {},
   "outputs": [],
   "source": [
    "cosmic = tools.COSMIC()\n",
    "dat = tools.annotate_context(dat, \"../fasta/hg19.fa\")\n",
    "dat = dat.assign(GeneralType=tools.annotate_general_type(dat))\n",
    "dat['Type'] = cosmic.fold(dat['GeneralType'])"
   ]
  },
  {
   "cell_type": "code",
   "execution_count": 30,
   "metadata": {},
   "outputs": [],
   "source": [
    "pmeta = pd.read_excel(\"41586_2021_3477_MOESM3_ESM.xlsx\",sheet_name=\"SupTable1 - Samples\")"
   ]
  },
  {
   "cell_type": "code",
   "execution_count": 38,
   "metadata": {},
   "outputs": [],
   "source": [
    "dat[\"Tissue_CellType\"] = dat.Cell.str.split(\"_\").str[1].str.capitalize()"
   ]
  },
  {
   "cell_type": "code",
   "execution_count": 41,
   "metadata": {},
   "outputs": [],
   "source": [
    "dat[\"Compartment\"] = \"WGS\""
   ]
  },
  {
   "cell_type": "code",
   "execution_count": 42,
   "metadata": {},
   "outputs": [],
   "source": [
    "dat[col_order].to_csv(\"Abascal2022.csv.gz\", compression=\"gzip\")"
   ]
  },
  {
   "cell_type": "markdown",
   "metadata": {},
   "source": [
    "Meta file"
   ]
  },
  {
   "cell_type": "code",
   "execution_count": 49,
   "metadata": {},
   "outputs": [],
   "source": [
    "pmeta[\"Status\"] = pmeta[\"Disease state\"].replace(\"-\", \"Normal\")"
   ]
  },
  {
   "cell_type": "code",
   "execution_count": 56,
   "metadata": {},
   "outputs": [],
   "source": [
    "ages = pmeta.set_index(\"Donor id\")[\"Age\"].to_dict()\n",
    "stat = pmeta.set_index(\"Donor id\")[\"Status\"].to_dict()\n",
    "tissue = dat.set_index(\"Sample\")[\"Tissue_CellType\"].to_dict()\n",
    "cell2indv = dat.set_index(\"Sample\")[\"Individual\"].to_dict()"
   ]
  },
  {
   "cell_type": "code",
   "execution_count": 57,
   "metadata": {},
   "outputs": [],
   "source": [
    "l = list(dat.Sample.unique())\n",
    "meta = pd.DataFrame(l)\n",
    "meta.columns = [\"Sample\"]\n",
    "meta[\"Study\"] = \"Abascal2021\"\n",
    "meta[\"Tissue_CellType\"] = meta.Sample.map(tissue)\n",
    "meta[\"Individual\"] = meta.Sample.map(cell2indv)\n",
    "meta[\"Age\"] = meta[\"Individual\"].map(ages)\n",
    "meta[\"Status\"] = meta[\"Individual\"].map(stat)\n",
    "meta[\"Compartment\"] = \"WGS\""
   ]
  },
  {
   "cell_type": "code",
   "execution_count": 60,
   "metadata": {},
   "outputs": [],
   "source": [
    "meta[col_meta].to_csv(\"Abascal2021.tab.gz\",sep=\"\\t\", index=False)"
   ]
  }
 ],
 "metadata": {
  "kernelspec": {
   "display_name": "Python 3",
   "language": "python",
   "name": "python3"
  },
  "language_info": {
   "codemirror_mode": {
    "name": "ipython",
    "version": 3
   },
   "file_extension": ".py",
   "mimetype": "text/x-python",
   "name": "python",
   "nbconvert_exporter": "python",
   "pygments_lexer": "ipython3",
   "version": "3.8.5"
  }
 },
 "nbformat": 4,
 "nbformat_minor": 4
}
