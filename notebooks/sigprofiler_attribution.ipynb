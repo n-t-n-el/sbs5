{
 "cells": [
  {
   "cell_type": "code",
   "execution_count": null,
   "metadata": {},
   "outputs": [],
   "source": [
    "import os\n",
    "import fnmatch\n",
    "import seaborn as sns\n",
    "import matplotlib.pyplot as plt\n",
    "import numpy as np\n",
    "import pandas as pd\n",
    "from SigProfilerAssignment import Analyzer as Analyze"
   ]
  },
  {
   "cell_type": "code",
   "execution_count": 6,
   "metadata": {},
   "outputs": [
    {
     "name": "stdout",
     "output_type": "stream",
     "text": [
      "Assigning COSMIC sigs or Signature Database ...... \n",
      "|████████████████████████████████████████| 345/345 [100%] in 29.7s (11.61/s) \n",
      "\n",
      "\n",
      " \n",
      "Your Job Is Successfully Completed! Thank You For Using SigProfilerAssignment.\n",
      " \n"
     ]
    }
   ],
   "source": [
    "studies = [\"Yoshida2020\", \"Olafsson2020\", \"Olafsson2023\", \"Ng2021\"]\n",
    "studies = [\"Wang2023\"]\n",
    "for study in studies:\n",
    "    if \"Wang\" not in study:\n",
    "        muts = pd.read_csv(f\"../data/{study}/{study}-signet.tab\", sep=\"\\t\")\n",
    "    else:\n",
    "        muts = pd.read_csv(f\"../data/{study}/{study}-signet.onlyspec.tab\")\n",
    "    dat = muts[[\"Sample\"] + [c for c in muts.columns if \"[\" in c]]\n",
    "    dat = dat.set_index(\"Sample\")\n",
    "    dat.index.name = None\n",
    "    if len(dat.columns)!=96:\n",
    "        print(\"Skipping \", study)\n",
    "        continue\n",
    "            # SigProfiler\n",
    "    os.makedirs(f\"../data/{study}/SigProfilerAssignment\", exist_ok=True)\n",
    "    exome = False\n",
    "    if study==\"Olafsson2023\":\n",
    "        exome = True\n",
    "        print(\"Exome!\")            \n",
    "    Analyze.cosmic_fit(dat.transpose(), f\"../data/{study}/SigProfilerAssignment\", \n",
    "                       exome=exome,\n",
    "                       cosmic_version=3.1)"
   ]
  },
  {
   "cell_type": "code",
   "execution_count": null,
   "metadata": {},
   "outputs": [
    {
     "name": "stdout",
     "output_type": "stream",
     "text": [
      "Olafsson2023\n",
      "Exome!\n",
      "Assigning COSMIC sigs or Signature Database ...... \n",
      "|████████████████████████████████████████| 224/224 [100%] in 22.0s (10.18/s) \n",
      "\n",
      "\n",
      " \n",
      "Your Job Is Successfully Completed! Thank You For Using SigProfilerAssignment.\n",
      " \n"
     ]
    }
   ],
   "source": [
    "catalog = musical.catalog.load_catalog('COSMIC_v3p1_SBS_WGS')\n",
    "X = pd.read_csv('MuSiCal/examples/data/simulated_example.Skin.Melanoma.X.csv', index_col=0)\n",
    "\n",
    "skip_studies = [\"Li2021\", \"Szikriszt2021\", \"Hwang2025\", \"Kucab2019\", \"Volkova2020\"]\n",
    "\n",
    "for r, _, fs in os.walk(\"../data/\"):\n",
    "    for f in fnmatch.filter(fs, \"*signet*\"):\n",
    "        study = f.split(\"-\")[0]\n",
    "        print(study)\n",
    "        muts = pd.read_csv(os.path.join(r, f), sep=\"\\t\")\n",
    "        dat = muts[[\"Sample\"] + [c for c in muts.columns if \"[\" in c]]\n",
    "        dat = dat.set_index(\"Sample\")\n",
    "        dat.index.name = None\n",
    "        if len(dat.columns)!=96:\n",
    "            print(\"Skipping \", study)\n",
    "            continue\n",
    "\n",
    "        # SigProfiler\n",
    "        os.makedirs(f\"../data/{study}/SigProfilerAssignment\", exist_ok=True)\n",
    "        exome = False\n",
    "        if study==\"Olafsson2023\":\n",
    "            exome = True\n",
    "            print(\"Exome!\")            \n",
    "        Analyze.cosmic_fit(dat.transpose(), f\"../data/{study}/SigProfilerAssignment\", \n",
    "                           exome=exome,\n",
    "                           cosmic_version=3.1)\n",
    "\n",
    "        # MuSiCal\n",
    "        #mus_dat = dat.T\n",
    "        #mus_dat.index.name=\"Type\"\n",
    "        #mus_dat = mus_dat.loc[X.index]\n",
    "        #res = musical.refit.refit(mus_dat, catalog.W, method='likelihood_bidirectional', thresh=0.001)\n",
    "        #os.makedirs(f\"../data/{study}/MuSiCal\", exist_ok=True)\n",
    "        #res[0].to_csv(f\"../data/{study}/MuSiCal/Activities_LKLbi.txt\", sep=\"\\t\")"
   ]
  }
 ],
 "metadata": {
  "kernelspec": {
   "display_name": "base",
   "language": "python",
   "name": "python3"
  },
  "language_info": {
   "codemirror_mode": {
    "name": "ipython",
    "version": 3
   },
   "file_extension": ".py",
   "mimetype": "text/x-python",
   "name": "python",
   "nbconvert_exporter": "python",
   "pygments_lexer": "ipython3",
   "version": "3.8.5"
  }
 },
 "nbformat": 4,
 "nbformat_minor": 2
}
