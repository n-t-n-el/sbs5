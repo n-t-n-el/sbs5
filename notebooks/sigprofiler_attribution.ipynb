{
 "cells": [
  {
   "cell_type": "code",
   "execution_count": null,
   "metadata": {},
   "outputs": [],
   "source": [
    "import os\n",
    "import fnmatch\n",
    "import seaborn as sns\n",
    "import matplotlib.pyplot as plt\n",
    "import numpy as np\n",
    "import pandas as pd\n",
    "from SigProfilerAssignment import Analyzer as Analyze"
   ]
  },
  {
   "cell_type": "code",
   "execution_count": 3,
   "metadata": {},
   "outputs": [
    {
     "data": {
      "text/html": [
       "<details>\n",
       "<summary>Click to view session information</summary>\n",
       "<pre>\n",
       "-----\n",
       "SigProfilerAssignment       0.0.30\n",
       "matplotlib                  3.7.1\n",
       "numpy                       1.24.4\n",
       "pandas                      2.0.3\n",
       "seaborn                     0.12.2\n",
       "session_info                1.0.0\n",
       "-----\n",
       "</pre>\n",
       "<details>\n",
       "<summary>Click to view modules imported as dependencies</summary>\n",
       "<pre>\n",
       "Cython                      0.29.21\n",
       "PIL                         8.2.0\n",
       "PyPDF2                      3.0.1\n",
       "SigProfilerMatrixGenerator  1.2.17\n",
       "alive_progress              3.1.4\n",
       "appnope                     0.1.0\n",
       "backcall                    0.2.0\n",
       "beta_ufunc                  NA\n",
       "binom_ufunc                 NA\n",
       "bottleneck                  1.3.2\n",
       "cffi                        1.17.1\n",
       "cloudpickle                 1.6.0\n",
       "colorama                    0.4.4\n",
       "comm                        0.2.0\n",
       "cycler                      0.10.0\n",
       "cython                      0.29.21\n",
       "cython_runtime              NA\n",
       "dateutil                    2.8.2\n",
       "decorator                   4.4.2\n",
       "fitz                        1.22.5.1.22.2.20230621000001\n",
       "fontTools                   4.39.3\n",
       "hypergeom_ufunc             NA\n",
       "importlib_metadata          NA\n",
       "importlib_resources         NA\n",
       "ipykernel                   5.3.4\n",
       "ipython_genutils            0.2.0\n",
       "ipywidgets                  8.1.1\n",
       "jedi                        0.19.2\n",
       "joblib                      1.3.1\n",
       "kiwisolver                  1.3.0\n",
       "lxml                        4.6.1\n",
       "mpl_toolkits                NA\n",
       "nbinom_ufunc                NA\n",
       "ncf_ufunc                   NA\n",
       "numexpr                     2.7.1\n",
       "packaging                   25.0\n",
       "parso                       0.8.4\n",
       "pexpect                     4.8.0\n",
       "pickleshare                 0.7.5\n",
       "pkg_resources               NA\n",
       "prompt_toolkit              3.0.8\n",
       "psutil                      7.0.0\n",
       "ptyprocess                  0.6.0\n",
       "pyarrow                     11.0.0\n",
       "pygments                    2.19.1\n",
       "pyparsing                   2.4.7\n",
       "pytz                        2020.1\n",
       "reportlab                   3.5.67\n",
       "scipy                       1.9.1\n",
       "setuptools                  69.0.2\n",
       "sigProfilerPlotting         1.3.14\n",
       "six                         1.15.0\n",
       "sklearn                     1.3.0\n",
       "sphinxcontrib               NA\n",
       "statsmodels                 0.13.2\n",
       "storemagic                  NA\n",
       "swig_runtime_data4          NA\n",
       "threadpoolctl               2.1.0\n",
       "tornado                     6.4\n",
       "traitlets                   5.0.5\n",
       "typing_extensions           NA\n",
       "vscode                      NA\n",
       "wcwidth                     0.2.5\n",
       "zmq                         19.0.2\n",
       "zope                        NA\n",
       "</pre>\n",
       "</details> <!-- seems like this ends pre, so might as well be explicit -->\n",
       "<pre>\n",
       "-----\n",
       "IPython             7.19.0\n",
       "jupyter_client      6.1.7\n",
       "jupyter_core        4.6.3\n",
       "jupyterlab          2.2.6\n",
       "notebook            6.1.4\n",
       "-----\n",
       "Python 3.8.5 (default, Sep  4 2020, 02:22:02) [Clang 10.0.0 ]\n",
       "macOS-10.16-x86_64-i386-64bit\n",
       "-----\n",
       "Session information updated at 2025-09-04 11:29\n",
       "</pre>\n",
       "</details>"
      ],
      "text/plain": [
       "<IPython.core.display.HTML object>"
      ]
     },
     "execution_count": 3,
     "metadata": {},
     "output_type": "execute_result"
    }
   ],
   "source": [
    "import session_info\n",
    "session_info.show()"
   ]
  },
  {
   "cell_type": "code",
   "execution_count": 6,
   "metadata": {},
   "outputs": [
    {
     "name": "stdout",
     "output_type": "stream",
     "text": [
      "Assigning COSMIC sigs or Signature Database ...... \n",
      "|████████████████████████████████████████| 345/345 [100%] in 29.7s (11.61/s) \n",
      "\n",
      "\n",
      " \n",
      "Your Job Is Successfully Completed! Thank You For Using SigProfilerAssignment.\n",
      " \n"
     ]
    }
   ],
   "source": [
    "studies = [\"Yoshida2020\", \"Olafsson2020\", \"Olafsson2023\", \"Ng2021\"]\n",
    "studies = [\"Wang2023\"]\n",
    "for study in studies:\n",
    "    if \"Wang\" not in study:\n",
    "        muts = pd.read_csv(f\"../data/{study}/{study}-signet.tab\", sep=\"\\t\")\n",
    "    else:\n",
    "        muts = pd.read_csv(f\"../data/{study}/{study}-signet.onlyspec.tab\")\n",
    "    dat = muts[[\"Sample\"] + [c for c in muts.columns if \"[\" in c]]\n",
    "    dat = dat.set_index(\"Sample\")\n",
    "    dat.index.name = None\n",
    "    if len(dat.columns)!=96:\n",
    "        print(\"Skipping \", study)\n",
    "        continue\n",
    "            # SigProfiler\n",
    "    os.makedirs(f\"../data/{study}/SigProfilerAssignment\", exist_ok=True)\n",
    "    exome = False\n",
    "    if study==\"Olafsson2023\":\n",
    "        exome = True\n",
    "        print(\"Exome!\")            \n",
    "    Analyze.cosmic_fit(dat.transpose(), f\"../data/{study}/SigProfilerAssignment\", \n",
    "                       exome=exome,\n",
    "                       cosmic_version=3.1)"
   ]
  }
 ],
 "metadata": {
  "kernelspec": {
   "display_name": "base",
   "language": "python",
   "name": "python3"
  },
  "language_info": {
   "codemirror_mode": {
    "name": "ipython",
    "version": 3
   },
   "file_extension": ".py",
   "mimetype": "text/x-python",
   "name": "python",
   "nbconvert_exporter": "python",
   "pygments_lexer": "ipython3",
   "version": "3.8.5"
  }
 },
 "nbformat": 4,
 "nbformat_minor": 2
}
