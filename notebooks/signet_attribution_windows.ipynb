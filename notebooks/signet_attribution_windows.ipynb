{
 "cells": [
  {
   "cell_type": "markdown",
   "metadata": {},
   "source": [
    "## SigNet\n",
    "\n",
    "SigNet attribution across bins of repair efficiency."
   ]
  },
  {
   "cell_type": "code",
   "execution_count": 1,
   "metadata": {},
   "outputs": [],
   "source": [
    "import pandas as pd\n",
    "import numpy as np\n",
    "import os\n",
    "from scipy.stats import pearsonr,norm\n",
    "from numpy import random,sqrt"
   ]
  },
  {
   "cell_type": "code",
   "execution_count": 2,
   "metadata": {},
   "outputs": [],
   "source": [
    "import matplotlib\n",
    "#matplotlib.use('PDF')\n",
    "import matplotlib.pylab as plt\n",
    "from matplotlib import rc\n",
    "plt.rcParams['ps.useafm'] = True\n",
    "rc('font',**{'family':'sans-serif','sans-serif':['Helvetica Neue']}, size=13)\n",
    "plt.rcParams['pdf.fonttype'] = 42\n",
    "figsize,width,mec = (2,2), 1, 'none'"
   ]
  },
  {
   "cell_type": "code",
   "execution_count": 3,
   "metadata": {},
   "outputs": [],
   "source": [
    "from multiprocess import Pool,cpu_count\n",
    "from tqdm import tqdm\n",
    "def applyParallel(dfGrouped, func):\n",
    "    with Pool(cpu_count()-2) as p:\n",
    "        ret_list = list(tqdm(p.imap(func, dfGrouped),total=len(dfGrouped)))\n",
    "    return pd.concat(ret_list)"
   ]
  },
  {
   "cell_type": "code",
   "execution_count": 4,
   "metadata": {},
   "outputs": [
    {
     "name": "stdout",
     "output_type": "stream",
     "text": [
      "Signatures of interest: SBS1 SBS5 SBS4 SBS7a SBS7b SBS7c SBS7d SBS9 SBS12 SBS16 SBS18 SBS19 SBS40\n"
     ]
    }
   ],
   "source": [
    "from tools import Reference,COSMIC,A,C,G,T\n",
    "ref = Reference(19)\n",
    "cosmic = COSMIC()\n",
    "from signaturesnet.modules.signet_module import SigNet\n",
    "filename = os.path.expanduser('~/SigNet/signaturesnet/data/real_data/3mer_WG_hg37.txt')\n",
    "signet = SigNet(opportunities_name_or_path=filename)\n",
    "filename = os.path.expanduser('~/SigNet/signaturesnet/data/data.xlsx')\n",
    "xlsx = pd.read_excel(filename, sheet_name=None)\n",
    "signatures = xlsx['SBS_GRCh37'].columns[1:].to_numpy()\n",
    "of_interest = np.array([0,4,3,6,7,8,9,11,15,19,22,23,44])\n",
    "colors = ['crimson','gold','cyan','navy','navy','navy','navy',\n",
    "          'pink','palegreen','limegreen','turquoise','purple','yellow']\n",
    "print('Signatures of interest:', ' '.join(signatures[of_interest]))"
   ]
  },
  {
   "cell_type": "code",
   "execution_count": 5,
   "metadata": {},
   "outputs": [],
   "source": [
    "wsize = '5Mb'\n",
    "window_size = int(5e6)\n",
    "backgrounds = pd.read_table(f'../data/features2windows/{wsize}.background.tab.gz', sep=\"\\t\")\n",
    "backgrounds['WindowIndex'] = backgrounds['Chr'] + '_' + (backgrounds['Start']//window_size).astype(int).astype(str)\n",
    "\n",
    "filename = os.path.expanduser('~/SigNet/signaturesnet/data/real_data/3mer_WG_hg37.txt')\n",
    "contextHist = pd.read_table(filename, header=None, names=['GeneralContext','Count'])\n",
    "contextHist['Context'] = contextHist.apply(\n",
    "    lambda x: cosmic.revContext(x['GeneralContext']) if x['GeneralContext'][1] in [A,G] else x['GeneralContext'], axis=1)\n",
    "contextHist = contextHist.groupby('Context')['Count'].sum()\n",
    "cosmic.cosmic['Context']=cosmic.cosmic.Type.str[0]+cosmic.cosmic.Type.str[2]+cosmic.cosmic.Type.str[6]\n",
    "if 'Count' not in cosmic.cosmic.columns:\n",
    "    cosmic.cosmic = cosmic.cosmic.merge(contextHist, left_on='Context', right_index=True, how='left')"
   ]
  },
  {
   "cell_type": "code",
   "execution_count": 12,
   "metadata": {},
   "outputs": [
    {
     "data": {
      "image/png": "[encoded data removed]",
      "text/plain": [
       "<Figure size 200x200 with 1 Axes>"
      ]
     },
     "metadata": {},
     "output_type": "display_data"
    }
   ],
   "source": [
    "dat = pd.read_csv(f\"../data/features2windows/{wsize}.merged.csv.gz\", sep=\",\", na_values=\".\")\n",
    "dat['Chr'] = dat.chrom\n",
    "dat['Start'] = dat.start\n",
    "dat['End'] = dat.end\n",
    "dat['WindowIndex'] = dat['Chr'] + '_' + (dat['Start']//window_size).astype(int).astype(str)\n",
    "dat = dat.merge(backgrounds[list(cosmic.order+['WindowIndex'])], on='WindowIndex', how='right')\n",
    "dat.dropna(subset=cosmic.order, inplace=True)\n",
    "dat.reset_index(drop=True, inplace=True)\n",
    "\n",
    "dat.rename(columns={'cpd_repair': 'RepairRate'}, inplace=True)\n",
    "dat[['RepairRate']].hist(bins=np.linspace(0,0.001,100),figsize=figsize)\n",
    "plt.show()"
   ]
  },
  {
   "cell_type": "code",
   "execution_count": 7,
   "metadata": {},
   "outputs": [],
   "source": [
    "percentiles_limits = dat['RepairRate'].quantile(np.linspace(0,1,101)).values\n",
    "percentiles = pd.DataFrame(zip(percentiles_limits,percentiles_limits[1:]), columns=['Start','End'])\n",
    "#assign percentile index to each row of dat\n",
    "dat['RepairRatePercentile'] = pd.cut(dat['RepairRate'], bins=percentiles_limits, include_lowest=True,labels=False)"
   ]
  },
  {
   "cell_type": "code",
   "execution_count": 8,
   "metadata": {},
   "outputs": [
    {
     "data": {
      "image/png": "[encoded data removed]",
      "text/plain": [
       "<Figure size 200x200 with 1 Axes>"
      ]
     },
     "metadata": {},
     "output_type": "display_data"
    },
    {
     "data": {
      "image/png": "[encoded data removed]",
      "text/plain": [
       "<Figure size 200x200 with 1 Axes>"
      ]
     },
     "metadata": {},
     "output_type": "display_data"
    }
   ],
   "source": [
    "dat.groupby('RepairRatePercentile').size().hist(bins=range(3,8),figsize=figsize)\n",
    "plt.xlabel('Number of windows')\n",
    "plt.show()\n",
    "\n",
    "dat.groupby('RepairRatePercentile')['RepairRate'].mean().plot(figsize=figsize, color='black')\n",
    "plt.ylabel('RepairRate')\n",
    "plt.show()"
   ]
  },
  {
   "cell_type": "code",
   "execution_count": null,
   "metadata": {},
   "outputs": [
    {
     "name": "stdout",
     "output_type": "stream",
     "text": [
      "Skip\n"
     ]
    }
   ],
   "source": [
    "dataset = 'Yoshida2020'\n",
    "filename = '../data/{}/{}.csv.gz'.format(dataset, dataset)\n",
    "df = pd.read_csv(filename)\n",
    "filename = f'../data/{dataset}/{dataset}.tab.gz'\n",
    "df_info = pd.read_table(filename)\n",
    "dct = {'ex-smoker': 'smoker', 'non-smoker': 'never-smoker', 'smoker': 'smoker'}\n",
    "df_info['Smoking'] = df_info.Status.map(dct)\n",
    "df_info['Smoking'] = df_info.Tissue_CellType + '_' + df_info.Smoking\n",
    "df['Tissue_CellType'] = df.Sample.map(dict(df_info[['Sample','Smoking']].values))\n",
    "#df = df.loc[df.Tissue_CellType=='Lung_smoker'].reset_index(drop=True)\n",
    "df = df.loc[df.Tissue_CellType=='Lung_smoker'].reset_index(drop=True)\n",
    "\n",
    "df['Window'] = (df.Pos//window_size).astype(int)\n",
    "df['WindowIndex'] = df.Chr + '_' + df.Window.astype(str)\n",
    "\n",
    "df = df.merge(dat[['WindowIndex','RepairRatePercentile']], on='WindowIndex', how='left')\n",
    "df = df.loc[df.RepairRatePercentile.notna()].reset_index(drop=True)\n",
    "\n",
    "df.groupby('RepairRatePercentile').size().hist(bins=20,figsize=figsize)\n",
    "plt.xlabel('Number of mutations')\n",
    "plt.show()"
   ]
  },
  {
   "cell_type": "code",
   "execution_count": 46,
   "metadata": {},
   "outputs": [],
   "source": [
    "backgroundsRepair = dat.groupby('RepairRatePercentile')[cosmic.order].sum().reset_index(drop=False)\n",
    "backgroundsRepair[cosmic.order] = backgroundsRepair[cosmic.order].div(backgroundsRepair[cosmic.order].sum(axis=1), axis=0)"
   ]
  },
  {
   "cell_type": "markdown",
   "metadata": {},
   "source": [
    "Signet inference"
   ]
  },
  {
   "cell_type": "code",
   "execution_count": 48,
   "metadata": {},
   "outputs": [
    {
     "name": "stdout",
     "output_type": "stream",
     "text": [
      "OK\n"
     ]
    }
   ],
   "source": [
    "# signet format of the data\n",
    "partition = ['RepairRatePercentile'] #partition = ['Sample']\n",
    "mutations = df.groupby(['Type']+partition).size().unstack(level=0).fillna(0).astype(int)\n",
    "mutations.reset_index(inplace=True,drop=False)\n",
    "\n",
    "Z = 1./mutations[mutations.columns[1:]].sum(axis=1)\n",
    "mutations_normalized = pd.DataFrame(np.einsum('ij,i->ij',mutations[mutations.columns[1:]],Z),index=mutations[mutations.columns[1:]].index,columns=mutations[mutations.columns[1:]].columns)\n",
    "mutations_normalized['RepairRatePercentile'] = mutations['RepairRatePercentile']\n",
    "\n",
    "mutations.sort_values(by=['RepairRatePercentile'], inplace=True)\n",
    "backgroundsRepair.sort_values(by=['RepairRatePercentile'], inplace=True)\n",
    "cosmic_alphabet = cosmic.cosmic.sort_values(by=['Type'],inplace=False)\n",
    "if (cosmic_alphabet.Type==mutations.columns[1:]).all(): print('OK')"
   ]
  },
  {
   "cell_type": "code",
   "execution_count": 49,
   "metadata": {},
   "outputs": [],
   "source": [
    "Z1 = mutations[mutations.columns[1:]].sum(axis=1)\n",
    "normalized = mutations[mutations.columns[1:]]/backgroundsRepair[mutations.columns[1:]]\n",
    "Z2 = cosmic_alphabet['Count'].values.astype(float)\n",
    "normalized_properly = pd.DataFrame(np.einsum('ij,j->ij',normalized,Z2),index=normalized.index,columns=normalized.columns)\n",
    "Z3 = normalized_properly.sum(axis=1)\n",
    "Z = Z1/Z3\n",
    "mutations_normalized = pd.DataFrame(np.einsum('ij,i->ij',normalized_properly,Z),index=mutations.index,columns=mutations[mutations.columns[1:]].columns)\n",
    "mutations_normalized['RepairRatePercentile'] = mutations['RepairRatePercentile']"
   ]
  },
  {
   "cell_type": "code",
   "execution_count": 50,
   "metadata": {},
   "outputs": [
    {
     "data": {
      "image/png": "[encoded data removed]",
      "text/plain": [
       "<Figure size 400x200 with 1 Axes>"
      ]
     },
     "metadata": {},
     "output_type": "display_data"
    }
   ],
   "source": [
    "result = signet(mutation_dataset=mutations_normalized)\n",
    "w, _, _, _, _ = result.get_output()\n",
    "numbers = mutations[mutations.columns[1:]].sum(axis=1).values\n",
    "order = np.argsort(-numbers)\n",
    "order = np.argsort(dat.groupby('RepairRatePercentile')['RepairRate'].mean().values)\n",
    "w2 = (w.T[of_interest]*numbers)[:,order]\n",
    "w2residual = sum((w.T*numbers))[order]-sum(w2)\n",
    "w2df = pd.DataFrame(w2.T,columns=[signatures[of_interest]])\n",
    "w2df['Other'] = w2residual\n",
    "samples = range(len(order))\n",
    "\n",
    "plt.figure(figsize=(4,2))\n",
    "for i,w2i in enumerate(w2): plt.bar(samples,w2i,bottom=sum(w2[:i]),color=colors[i],width=width) \n",
    "plt.bar(samples,w2residual,bottom=sum(w2),color='grey',width=width) \n",
    "plt.xlabel('Percentiles of Repair Rate')\n",
    "plt.xticks([])\n",
    "plt.ylim(ymin=0)\n",
    "plt.show()"
   ]
  },
  {
   "cell_type": "code",
   "execution_count": 51,
   "metadata": {},
   "outputs": [],
   "source": [
    "output = mutations.astype({'RepairRatePercentile': 'int'}).copy()\n",
    "signs = pd.DataFrame(w, columns=list(signatures)+['other'])\n",
    "values = mutations[mutations.columns[1:]].sum(axis=1).values \n",
    "numbers = signs*values[:,np.newaxis]\n",
    "numbers.columns = ['n'+col for col in numbers.columns]\n",
    "output = output.merge(signs, left_index=True, right_index=True)\n",
    "output = output.merge(numbers, left_index=True, right_index=True)\n",
    "output['RepairRate'] = dat.groupby('RepairRatePercentile')['RepairRate'].mean().values"
   ]
  },
  {
   "cell_type": "code",
   "execution_count": 55,
   "metadata": {},
   "outputs": [],
   "source": [
    "filename = '../data/Germline/Germline-signet-maternal-along-repair.tab'\n",
    "#output.to_csv(filename, sep=\"\\t\", index=False)"
   ]
  },
  {
   "cell_type": "code",
   "execution_count": null,
   "metadata": {},
   "outputs": [],
   "source": []
  }
 ],
 "metadata": {
  "kernelspec": {
   "display_name": "Python 3",
   "language": "python",
   "name": "python3"
  },
  "language_info": {
   "codemirror_mode": {
    "name": "ipython",
    "version": 3
   },
   "file_extension": ".py",
   "mimetype": "text/x-python",
   "name": "python",
   "nbconvert_exporter": "python",
   "pygments_lexer": "ipython3",
   "version": "3.11.4"
  }
 },
 "nbformat": 4,
 "nbformat_minor": 2
}
